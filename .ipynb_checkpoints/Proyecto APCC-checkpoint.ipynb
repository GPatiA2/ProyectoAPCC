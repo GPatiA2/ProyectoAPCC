{
 "cells": [
  {
   "cell_type": "markdown",
   "id": "a058280c",
   "metadata": {},
   "source": [
    "# Proyecto APCC : Corrección de errores con redes neuronales"
   ]
  },
  {
   "cell_type": "markdown",
   "id": "e2eff78e",
   "metadata": {},
   "source": [
    "__Guillermo García Patiño Lenza__"
   ]
  },
  {
   "cell_type": "code",
   "execution_count": 2,
   "id": "dc2f4325",
   "metadata": {},
   "outputs": [],
   "source": [
    "import tensorflow_quantum as tfq\n",
    "import sympy as sp\n",
    "from cirq import Simulator\n",
    "import tensorflow as tf\n",
    "import cirq as cq\n",
    "import matplotlib.pyplot as plt\n",
    "import numpy as np\n",
    "from cirq.contrib.svg import SVGCircuit"
   ]
  },
  {
   "cell_type": "markdown",
   "id": "c9655a1e",
   "metadata": {},
   "source": [
    "## Definición de los circuitos a emplear"
   ]
  },
  {
   "cell_type": "code",
   "execution_count": 4,
   "id": "2c7407cb",
   "metadata": {},
   "outputs": [],
   "source": [
    "def producirCircuitoTeleportacion():\n",
    "    # Este qubit tiene el estado que se quiere enviar\n",
    "    q0 = cq.NamedQubit('q0')\n",
    "    # Qubit de Alice\n",
    "    q1 = cq.NamedQubit('q1')\n",
    "    # Qubit de Bob\n",
    "    q2 = cq.NamedQubit('q2')\n",
    "    \n",
    "    momentos = []\n",
    "    \n",
    "    # Entrelazo q1 y q2\n",
    "    m1 = cq.Moment([cq.H(q1)])\n",
    "    momentos.append(m1)\n",
    "    m2 = cq.Moment([cq.CNOT(q1,q2)])\n",
    "    momentos.append(m2)\n",
    "    \n",
    "    # Codificar el estado de q0 en q1\n",
    "    m3 = cq.Moment([cq.CNOT(q0,q1)])\n",
    "    momentos.append(m3)\n",
    "    m4 = cq.Moment([cq.H(q0)])\n",
    "    momentos.append(m4)\n",
    "    \n",
    "    # Decodificar el estado de q0\n",
    "    m5 = cq.Moment([cq.CNOT(q1,q2)])\n",
    "    momentos.append(m5)\n",
    "    m6 = cq.Moment([cq.CZ(q0,q2)])\n",
    "    momentos.append(m6)\n",
    "    \n",
    "    # medir\n",
    "    m7 = cq.Moment([cq.measure(q0), cq.measure(q1), cq.measure(q2)])\n",
    "    momentos.append(m7)\n",
    "    \n",
    "    circuito = cq.Circuit(momentos)\n",
    "    \n",
    "    return circuito, momentos"
   ]
  },
  {
   "cell_type": "code",
   "execution_count": 5,
   "id": "01d70344",
   "metadata": {
    "scrolled": false
   },
   "outputs": [
    {
     "data": {
      "image/svg+xml": [
       "<svg xmlns=\"http://www.w3.org/2000/svg\" width=\"520.0\" height=\"150.0\"><line x1=\"30.0\" x2=\"490.0\" y1=\"25.0\" y2=\"25.0\" stroke=\"#1967d2\" stroke-width=\"1\" /><line x1=\"30.0\" x2=\"490.0\" y1=\"75.0\" y2=\"75.0\" stroke=\"#1967d2\" stroke-width=\"1\" /><line x1=\"30.0\" x2=\"490.0\" y1=\"125.0\" y2=\"125.0\" stroke=\"#1967d2\" stroke-width=\"1\" /><line x1=\"150.0\" x2=\"150.0\" y1=\"75.0\" y2=\"125.0\" stroke=\"black\" stroke-width=\"3\" /><line x1=\"210.0\" x2=\"210.0\" y1=\"25.0\" y2=\"75.0\" stroke=\"black\" stroke-width=\"3\" /><line x1=\"330.0\" x2=\"330.0\" y1=\"75.0\" y2=\"125.0\" stroke=\"black\" stroke-width=\"3\" /><line x1=\"390.0\" x2=\"390.0\" y1=\"25.0\" y2=\"125.0\" stroke=\"black\" stroke-width=\"3\" /><rect x=\"10.0\" y=\"5.0\" width=\"40\" height=\"40\" stroke=\"black\" fill=\"white\" stroke-width=\"0\" /><text x=\"30.0\" y=\"25.0\" dominant-baseline=\"middle\" text-anchor=\"middle\" font-size=\"14px\">q0: </text><rect x=\"10.0\" y=\"55.0\" width=\"40\" height=\"40\" stroke=\"black\" fill=\"white\" stroke-width=\"0\" /><text x=\"30.0\" y=\"75.0\" dominant-baseline=\"middle\" text-anchor=\"middle\" font-size=\"14px\">q1: </text><rect x=\"10.0\" y=\"105.0\" width=\"40\" height=\"40\" stroke=\"black\" fill=\"white\" stroke-width=\"0\" /><text x=\"30.0\" y=\"125.0\" dominant-baseline=\"middle\" text-anchor=\"middle\" font-size=\"14px\">q2: </text><rect x=\"70.0\" y=\"55.0\" width=\"40\" height=\"40\" stroke=\"black\" fill=\"white\" stroke-width=\"1\" /><text x=\"90.0\" y=\"75.0\" dominant-baseline=\"middle\" text-anchor=\"middle\" font-size=\"18px\">H</text><circle cx=\"150.0\" cy=\"75.0\" r=\"10.0\" /><rect x=\"130.0\" y=\"105.0\" width=\"40\" height=\"40\" stroke=\"black\" fill=\"white\" stroke-width=\"1\" /><text x=\"150.0\" y=\"125.0\" dominant-baseline=\"middle\" text-anchor=\"middle\" font-size=\"18px\">X</text><circle cx=\"210.0\" cy=\"25.0\" r=\"10.0\" /><rect x=\"190.0\" y=\"55.0\" width=\"40\" height=\"40\" stroke=\"black\" fill=\"white\" stroke-width=\"1\" /><text x=\"210.0\" y=\"75.0\" dominant-baseline=\"middle\" text-anchor=\"middle\" font-size=\"18px\">X</text><rect x=\"250.0\" y=\"5.0\" width=\"40\" height=\"40\" stroke=\"black\" fill=\"white\" stroke-width=\"1\" /><text x=\"270.0\" y=\"25.0\" dominant-baseline=\"middle\" text-anchor=\"middle\" font-size=\"18px\">H</text><circle cx=\"330.0\" cy=\"75.0\" r=\"10.0\" /><rect x=\"310.0\" y=\"105.0\" width=\"40\" height=\"40\" stroke=\"black\" fill=\"white\" stroke-width=\"1\" /><text x=\"330.0\" y=\"125.0\" dominant-baseline=\"middle\" text-anchor=\"middle\" font-size=\"18px\">X</text><circle cx=\"390.0\" cy=\"25.0\" r=\"10.0\" /><circle cx=\"390.0\" cy=\"125.0\" r=\"10.0\" /><rect x=\"430.0\" y=\"5.0\" width=\"40\" height=\"40\" stroke=\"black\" fill=\"white\" stroke-width=\"1\" /><text x=\"450.0\" y=\"25.0\" dominant-baseline=\"middle\" text-anchor=\"middle\" font-size=\"18px\">M</text><rect x=\"430.0\" y=\"55.0\" width=\"40\" height=\"40\" stroke=\"black\" fill=\"white\" stroke-width=\"1\" /><text x=\"450.0\" y=\"75.0\" dominant-baseline=\"middle\" text-anchor=\"middle\" font-size=\"18px\">M</text><rect x=\"430.0\" y=\"105.0\" width=\"40\" height=\"40\" stroke=\"black\" fill=\"white\" stroke-width=\"1\" /><text x=\"450.0\" y=\"125.0\" dominant-baseline=\"middle\" text-anchor=\"middle\" font-size=\"18px\">M</text></svg>"
      ],
      "text/plain": [
       "<cirq.contrib.svg.svg.SVGCircuit at 0x1ef8c27b3c8>"
      ]
     },
     "execution_count": 5,
     "metadata": {},
     "output_type": "execute_result"
    }
   ],
   "source": [
    "c , m = producirCircuitoTeleportacion()\n",
    "SVGCircuit(c)"
   ]
  },
  {
   "cell_type": "code",
   "execution_count": 6,
   "id": "fb671ca8",
   "metadata": {},
   "outputs": [],
   "source": [
    "def codificacionDensa(b1,b0):\n",
    "    mlist = []\n",
    "    if (b1 == 0 and b0 == 1):\n",
    "        m = cq.Moment([cq.X(q_0)])\n",
    "        mlist.append(m)\n",
    "    elif (b1 == 1 and b0 == 0):\n",
    "        m = cq.Moment([cq.Z(q_0)])\n",
    "        mlist.append(m)\n",
    "    elif (b1 == 1 and b0 == 1):\n",
    "        m1 = cq.Moment([cq.X(q_0)])\n",
    "        m2 = cq.Moment([cq.Z(q_0)])\n",
    "        mlist.append(m1)\n",
    "        mlist.append(m2)\n",
    "    return mlist"
   ]
  },
  {
   "cell_type": "code",
   "execution_count": 7,
   "id": "dade8f25",
   "metadata": {},
   "outputs": [],
   "source": [
    "def producirCircuitoCodificacion(b1,b0):\n",
    "    q0 = cq.NamedQubit('q0')\n",
    "    q1 = cq.NamedQubit('q1')\n",
    "    \n",
    "    momentos = []\n",
    "    \n",
    "    # Crear el par entrelazado\n",
    "    m1 = cq.Moment([cq.H(q0)])\n",
    "    momentos.append(m1)\n",
    "    m2 = cq.Moment([cq.CNOT(q0,q1)])\n",
    "    momentos.append(m2)\n",
    "    \n",
    "    # Codificar los bits clasicos a enviar en q0\n",
    "    l = codificacionDensa(b1,b0)\n",
    "    for i in range(len(l)):\n",
    "        momentos.append(l[i])\n",
    "        \n",
    "    m3 = cq.Moment([cq.CNOT(q0,q1)])\n",
    "    momentos.append(m3)\n",
    "    \n",
    "    m4 = cq.Moment([cq.H(q0)])\n",
    "    momentos.append(m4)\n",
    "    \n",
    "    m5 = cq.Moment([cq.measure(q0), cq.measure(q1)])\n",
    "    momentos.append(m5)\n",
    "    \n",
    "    circuit = cq.Circuit(momentos)\n",
    "    return circuit, momentos"
   ]
  },
  {
   "cell_type": "code",
   "execution_count": 8,
   "id": "a9504659",
   "metadata": {},
   "outputs": [
    {
     "data": {
      "image/svg+xml": [
       "<svg xmlns=\"http://www.w3.org/2000/svg\" width=\"400.0\" height=\"100.0\"><line x1=\"30.0\" x2=\"370.0\" y1=\"25.0\" y2=\"25.0\" stroke=\"#1967d2\" stroke-width=\"1\" /><line x1=\"30.0\" x2=\"370.0\" y1=\"75.0\" y2=\"75.0\" stroke=\"#1967d2\" stroke-width=\"1\" /><line x1=\"150.0\" x2=\"150.0\" y1=\"25.0\" y2=\"75.0\" stroke=\"black\" stroke-width=\"3\" /><line x1=\"210.0\" x2=\"210.0\" y1=\"25.0\" y2=\"75.0\" stroke=\"black\" stroke-width=\"3\" /><rect x=\"10.0\" y=\"5.0\" width=\"40\" height=\"40\" stroke=\"black\" fill=\"white\" stroke-width=\"0\" /><text x=\"30.0\" y=\"25.0\" dominant-baseline=\"middle\" text-anchor=\"middle\" font-size=\"14px\">q0: </text><rect x=\"10.0\" y=\"55.0\" width=\"40\" height=\"40\" stroke=\"black\" fill=\"white\" stroke-width=\"0\" /><text x=\"30.0\" y=\"75.0\" dominant-baseline=\"middle\" text-anchor=\"middle\" font-size=\"14px\">q1: </text><rect x=\"70.0\" y=\"5.0\" width=\"40\" height=\"40\" stroke=\"black\" fill=\"white\" stroke-width=\"1\" /><text x=\"90.0\" y=\"25.0\" dominant-baseline=\"middle\" text-anchor=\"middle\" font-size=\"18px\">H</text><circle cx=\"150.0\" cy=\"25.0\" r=\"10.0\" /><rect x=\"130.0\" y=\"55.0\" width=\"40\" height=\"40\" stroke=\"black\" fill=\"white\" stroke-width=\"1\" /><text x=\"150.0\" y=\"75.0\" dominant-baseline=\"middle\" text-anchor=\"middle\" font-size=\"18px\">X</text><circle cx=\"210.0\" cy=\"25.0\" r=\"10.0\" /><rect x=\"190.0\" y=\"55.0\" width=\"40\" height=\"40\" stroke=\"black\" fill=\"white\" stroke-width=\"1\" /><text x=\"210.0\" y=\"75.0\" dominant-baseline=\"middle\" text-anchor=\"middle\" font-size=\"18px\">X</text><rect x=\"250.0\" y=\"5.0\" width=\"40\" height=\"40\" stroke=\"black\" fill=\"white\" stroke-width=\"1\" /><text x=\"270.0\" y=\"25.0\" dominant-baseline=\"middle\" text-anchor=\"middle\" font-size=\"18px\">H</text><rect x=\"310.0\" y=\"5.0\" width=\"40\" height=\"40\" stroke=\"black\" fill=\"white\" stroke-width=\"1\" /><text x=\"330.0\" y=\"25.0\" dominant-baseline=\"middle\" text-anchor=\"middle\" font-size=\"18px\">M</text><rect x=\"310.0\" y=\"55.0\" width=\"40\" height=\"40\" stroke=\"black\" fill=\"white\" stroke-width=\"1\" /><text x=\"330.0\" y=\"75.0\" dominant-baseline=\"middle\" text-anchor=\"middle\" font-size=\"18px\">M</text></svg>"
      ],
      "text/plain": [
       "<cirq.contrib.svg.svg.SVGCircuit at 0x1ef8c27e748>"
      ]
     },
     "execution_count": 8,
     "metadata": {},
     "output_type": "execute_result"
    }
   ],
   "source": [
    "c2, m2 = producirCircuitoCodificacion(0,0)\n",
    "SVGCircuit(c2)"
   ]
  },
  {
   "cell_type": "markdown",
   "id": "61b207c6",
   "metadata": {},
   "source": [
    "## Definición de los circuitos con ruido y corrección parametrizados:"
   ]
  },
  {
   "cell_type": "code",
   "execution_count": 108,
   "id": "b0da1ba3",
   "metadata": {},
   "outputs": [],
   "source": [
    "def prodTelepRyC(gradoX, gradoZ, params):\n",
    "    \n",
    "    # q0 contiene el estado que se quiere enviar\n",
    "    # q1 es el qubit de Alice\n",
    "    # q2 es el qubit de Bob\n",
    "    \n",
    "    q0,q1,q2 = cq.GridQubit.rect(1,3)\n",
    "    \n",
    "    momentos = []\n",
    "    \n",
    "    # Entrelazo q1 y q2\n",
    "    m1 = cq.Moment([cq.H(q1)])\n",
    "    momentos.append(m1)\n",
    "    m2 = cq.Moment([cq.CNOT(q1,q2)])\n",
    "    momentos.append(m2)\n",
    "    \n",
    "    circuitoBase = cq.Circuit((m1,m2))\n",
    "    \n",
    "    # Codificar el estado de q0 en q1\n",
    "    circuitoBase.append(cq.CNOT(q0,q1))\n",
    "    circuitoBase.append(cq.H(q0))\n",
    "    \n",
    "    # Se inserta el ruido a la hora de enviar el bit\n",
    "    circuitoBase.append(cq.rx(gradoX).on(q1))\n",
    "    circuitoBase.append(cq.rz(gradoZ).on(q1))\n",
    "    \n",
    "    # Se insertan puertas X y Z para corregir el ruido\n",
    "    \n",
    "    circuitoBase.append(cq.rx(params[0]).on(q1))\n",
    "    circuitoBase.append(cq.rz(params[1]).on(q1))\n",
    "    \n",
    "    # Decodificar el estado de q0\n",
    "    circuitoBase.append(cq.CNOT(q1,q2))    \n",
    "    circuitoBase.append(cq.CZ(q0,q2))\n",
    "\n",
    "    \n",
    "    # medir\n",
    "    circuitoBase.append([cq.measure(q0), cq.measure(q1), cq.measure(q2)])\n",
    "    \n",
    "    me1 = cq.Moment([cq.CNOT(q0,q1)])\n",
    "    me2 = cq.Moment([cq.H(q0)])\n",
    "    me3 = cq.Moment([cq.rx(gradoX).on(q1)])\n",
    "    me4 = cq.Moment([cq.rz(gradoZ).on(q1)])\n",
    "    circuitoEntrada = cq.Circuit([m1,m2,me1,me2,me3,me4])\n",
    "    \n",
    "    mc1 = cq.Moment([cq.rx(params[0]).on(q1)])\n",
    "    mc2 = cq.Moment([cq.rz(params[1]).on(q1)])\n",
    "    mc3 = cq.Moment([cq.CNOT(q1,q2)])\n",
    "    mc4 = cq.Moment([cq.CZ(q0,q2)])\n",
    "    mc5 = cq.Moment([cq.measure(q0), cq.measure(q1), cq.measure(q2)])\n",
    "    circuitoControlado = cq.Circuit([mc1,mc2,mc3,mc4,mc5])\n",
    "    \n",
    "    return circuitoBase, [q0,q1,q2], [circuitoEntrada, circuitoControlado]"
   ]
  },
  {
   "cell_type": "code",
   "execution_count": 110,
   "id": "14248ac0",
   "metadata": {},
   "outputs": [
    {
     "name": "stdout",
     "output_type": "stream",
     "text": [
      "(v0, v1)\n"
     ]
    },
    {
     "data": {
      "image/svg+xml": [
       "<svg xmlns=\"http://www.w3.org/2000/svg\" width=\"842.766171875\" height=\"190.0\"><line x1=\"32.246796875\" x2=\"812.766171875\" y1=\"45.0\" y2=\"45.0\" stroke=\"#1967d2\" stroke-width=\"1\" /><line x1=\"32.246796875\" x2=\"812.766171875\" y1=\"95.0\" y2=\"95.0\" stroke=\"#1967d2\" stroke-width=\"1\" /><line x1=\"32.246796875\" x2=\"812.766171875\" y1=\"145.0\" y2=\"145.0\" stroke=\"#1967d2\" stroke-width=\"1\" /><line x1=\"642.766171875\" x2=\"732.766171875\" y1=\"5.0\" y2=\"5.0\" stroke=\"black\" stroke-width=\"1\" /><line x1=\"642.766171875\" x2=\"732.766171875\" y1=\"185.0\" y2=\"185.0\" stroke=\"black\" stroke-width=\"1\" /><line x1=\"154.49359375\" x2=\"154.49359375\" y1=\"95.0\" y2=\"145.0\" stroke=\"black\" stroke-width=\"3\" /><line x1=\"214.49359375\" x2=\"214.49359375\" y1=\"45.0\" y2=\"95.0\" stroke=\"black\" stroke-width=\"3\" /><line x1=\"612.766171875\" x2=\"612.766171875\" y1=\"95.0\" y2=\"145.0\" stroke=\"black\" stroke-width=\"3\" /><line x1=\"662.766171875\" x2=\"662.766171875\" y1=\"45.0\" y2=\"145.0\" stroke=\"black\" stroke-width=\"3\" /><line x1=\"642.766171875\" x2=\"642.766171875\" y1=\"5.0\" y2=\"15.0\" stroke=\"black\" stroke-width=\"3\" /><line x1=\"732.766171875\" x2=\"732.766171875\" y1=\"5.0\" y2=\"15.0\" stroke=\"black\" stroke-width=\"3\" /><line x1=\"642.766171875\" x2=\"642.766171875\" y1=\"175.0\" y2=\"185.0\" stroke=\"black\" stroke-width=\"3\" /><line x1=\"732.766171875\" x2=\"732.766171875\" y1=\"175.0\" y2=\"185.0\" stroke=\"black\" stroke-width=\"3\" /><rect x=\"10.0\" y=\"25.0\" width=\"44.49359375\" height=\"40\" stroke=\"black\" fill=\"white\" stroke-width=\"0\" /><text x=\"32.246796875\" y=\"45.0\" dominant-baseline=\"middle\" text-anchor=\"middle\" font-size=\"14px\">(0, 0): </text><rect x=\"10.0\" y=\"75.0\" width=\"44.49359375\" height=\"40\" stroke=\"black\" fill=\"white\" stroke-width=\"0\" /><text x=\"32.246796875\" y=\"95.0\" dominant-baseline=\"middle\" text-anchor=\"middle\" font-size=\"14px\">(0, 1): </text><rect x=\"10.0\" y=\"125.0\" width=\"44.49359375\" height=\"40\" stroke=\"black\" fill=\"white\" stroke-width=\"0\" /><text x=\"32.246796875\" y=\"145.0\" dominant-baseline=\"middle\" text-anchor=\"middle\" font-size=\"14px\">(0, 2): </text><rect x=\"74.49359375\" y=\"75.0\" width=\"40\" height=\"40\" stroke=\"black\" fill=\"white\" stroke-width=\"1\" /><text x=\"94.49359375\" y=\"95.0\" dominant-baseline=\"middle\" text-anchor=\"middle\" font-size=\"18px\">H</text><circle cx=\"154.49359375\" cy=\"95.0\" r=\"10.0\" /><rect x=\"134.49359375\" y=\"125.0\" width=\"40\" height=\"40\" stroke=\"black\" fill=\"white\" stroke-width=\"1\" /><text x=\"154.49359375\" y=\"145.0\" dominant-baseline=\"middle\" text-anchor=\"middle\" font-size=\"18px\">X</text><circle cx=\"214.49359375\" cy=\"45.0\" r=\"10.0\" /><rect x=\"194.49359375\" y=\"75.0\" width=\"40\" height=\"40\" stroke=\"black\" fill=\"white\" stroke-width=\"1\" /><text x=\"214.49359375\" y=\"95.0\" dominant-baseline=\"middle\" text-anchor=\"middle\" font-size=\"18px\">X</text><rect x=\"254.49359375\" y=\"25.0\" width=\"79.5217578125\" height=\"40\" stroke=\"black\" fill=\"white\" stroke-width=\"1\" /><text x=\"294.25447265625\" y=\"45.0\" dominant-baseline=\"middle\" text-anchor=\"middle\" font-size=\"18px\">H</text><rect x=\"254.49359375\" y=\"75.0\" width=\"79.5217578125\" height=\"40\" stroke=\"black\" fill=\"white\" stroke-width=\"1\" /><text x=\"294.25447265625\" y=\"95.0\" dominant-baseline=\"middle\" text-anchor=\"middle\" font-size=\"14px\">Rx(0.032π)</text><rect x=\"354.0153515625\" y=\"75.0\" width=\"79.5217578125\" height=\"40\" stroke=\"black\" fill=\"white\" stroke-width=\"1\" /><text x=\"393.77623046875\" y=\"95.0\" dominant-baseline=\"middle\" text-anchor=\"middle\" font-size=\"14px\">Rz(0.032π)</text><rect x=\"453.537109375\" y=\"75.0\" width=\"49.61453125\" height=\"40\" stroke=\"black\" fill=\"white\" stroke-width=\"1\" /><text x=\"478.344375\" y=\"95.0\" dominant-baseline=\"middle\" text-anchor=\"middle\" font-size=\"14px\">Rx(v0)</text><rect x=\"523.151640625\" y=\"75.0\" width=\"49.61453125\" height=\"40\" stroke=\"black\" fill=\"white\" stroke-width=\"1\" /><text x=\"547.95890625\" y=\"95.0\" dominant-baseline=\"middle\" text-anchor=\"middle\" font-size=\"14px\">Rz(v1)</text><circle cx=\"612.766171875\" cy=\"95.0\" r=\"10.0\" /><rect x=\"592.766171875\" y=\"125.0\" width=\"40\" height=\"40\" stroke=\"black\" fill=\"white\" stroke-width=\"1\" /><text x=\"612.766171875\" y=\"145.0\" dominant-baseline=\"middle\" text-anchor=\"middle\" font-size=\"18px\">X</text><circle cx=\"662.766171875\" cy=\"45.0\" r=\"10.0\" /><circle cx=\"662.766171875\" cy=\"145.0\" r=\"10.0\" /><rect x=\"682.766171875\" y=\"75.0\" width=\"40\" height=\"40\" stroke=\"black\" fill=\"white\" stroke-width=\"1\" /><text x=\"702.766171875\" y=\"95.0\" dominant-baseline=\"middle\" text-anchor=\"middle\" font-size=\"18px\">M</text><rect x=\"752.766171875\" y=\"25.0\" width=\"40\" height=\"40\" stroke=\"black\" fill=\"white\" stroke-width=\"1\" /><text x=\"772.766171875\" y=\"45.0\" dominant-baseline=\"middle\" text-anchor=\"middle\" font-size=\"18px\">M</text><rect x=\"752.766171875\" y=\"125.0\" width=\"40\" height=\"40\" stroke=\"black\" fill=\"white\" stroke-width=\"1\" /><text x=\"772.766171875\" y=\"145.0\" dominant-baseline=\"middle\" text-anchor=\"middle\" font-size=\"18px\">M</text></svg>"
      ],
      "text/plain": [
       "<cirq.contrib.svg.svg.SVGCircuit at 0x1ef92a07348>"
      ]
     },
     "execution_count": 110,
     "metadata": {},
     "output_type": "execute_result"
    }
   ],
   "source": [
    "ctr_params = sp.symbols('v0 , v1')\n",
    "print(ctr_params)\n",
    "c = prodTelepRyC(0.1,0.1,ctr_params)\n",
    "SVGCircuit(c[0])"
   ]
  },
  {
   "cell_type": "code",
   "execution_count": 111,
   "id": "b201105e",
   "metadata": {},
   "outputs": [
    {
     "data": {
      "image/svg+xml": [
       "<svg xmlns=\"http://www.w3.org/2000/svg\" width=\"543.537109375\" height=\"150.0\"><line x1=\"32.246796875\" x2=\"513.537109375\" y1=\"25.0\" y2=\"25.0\" stroke=\"#1967d2\" stroke-width=\"1\" /><line x1=\"32.246796875\" x2=\"513.537109375\" y1=\"75.0\" y2=\"75.0\" stroke=\"#1967d2\" stroke-width=\"1\" /><line x1=\"32.246796875\" x2=\"513.537109375\" y1=\"125.0\" y2=\"125.0\" stroke=\"#1967d2\" stroke-width=\"1\" /><line x1=\"154.49359375\" x2=\"154.49359375\" y1=\"75.0\" y2=\"125.0\" stroke=\"black\" stroke-width=\"3\" /><line x1=\"214.49359375\" x2=\"214.49359375\" y1=\"25.0\" y2=\"75.0\" stroke=\"black\" stroke-width=\"3\" /><rect x=\"10.0\" y=\"5.0\" width=\"44.49359375\" height=\"40\" stroke=\"black\" fill=\"white\" stroke-width=\"0\" /><text x=\"32.246796875\" y=\"25.0\" dominant-baseline=\"middle\" text-anchor=\"middle\" font-size=\"14px\">(0, 0): </text><rect x=\"10.0\" y=\"55.0\" width=\"44.49359375\" height=\"40\" stroke=\"black\" fill=\"white\" stroke-width=\"0\" /><text x=\"32.246796875\" y=\"75.0\" dominant-baseline=\"middle\" text-anchor=\"middle\" font-size=\"14px\">(0, 1): </text><rect x=\"10.0\" y=\"105.0\" width=\"44.49359375\" height=\"40\" stroke=\"black\" fill=\"white\" stroke-width=\"0\" /><text x=\"32.246796875\" y=\"125.0\" dominant-baseline=\"middle\" text-anchor=\"middle\" font-size=\"14px\">(0, 2): </text><rect x=\"74.49359375\" y=\"55.0\" width=\"40\" height=\"40\" stroke=\"black\" fill=\"white\" stroke-width=\"1\" /><text x=\"94.49359375\" y=\"75.0\" dominant-baseline=\"middle\" text-anchor=\"middle\" font-size=\"18px\">H</text><circle cx=\"154.49359375\" cy=\"75.0\" r=\"10.0\" /><rect x=\"134.49359375\" y=\"105.0\" width=\"40\" height=\"40\" stroke=\"black\" fill=\"white\" stroke-width=\"1\" /><text x=\"154.49359375\" y=\"125.0\" dominant-baseline=\"middle\" text-anchor=\"middle\" font-size=\"18px\">X</text><circle cx=\"214.49359375\" cy=\"25.0\" r=\"10.0\" /><rect x=\"194.49359375\" y=\"55.0\" width=\"40\" height=\"40\" stroke=\"black\" fill=\"white\" stroke-width=\"1\" /><text x=\"214.49359375\" y=\"75.0\" dominant-baseline=\"middle\" text-anchor=\"middle\" font-size=\"18px\">X</text><rect x=\"254.49359375\" y=\"5.0\" width=\"40\" height=\"40\" stroke=\"black\" fill=\"white\" stroke-width=\"1\" /><text x=\"274.49359375\" y=\"25.0\" dominant-baseline=\"middle\" text-anchor=\"middle\" font-size=\"18px\">H</text><rect x=\"314.49359375\" y=\"55.0\" width=\"79.5217578125\" height=\"40\" stroke=\"black\" fill=\"white\" stroke-width=\"1\" /><text x=\"354.25447265625\" y=\"75.0\" dominant-baseline=\"middle\" text-anchor=\"middle\" font-size=\"14px\">Rx(0.032π)</text><rect x=\"414.0153515625\" y=\"55.0\" width=\"79.5217578125\" height=\"40\" stroke=\"black\" fill=\"white\" stroke-width=\"1\" /><text x=\"453.77623046875\" y=\"75.0\" dominant-baseline=\"middle\" text-anchor=\"middle\" font-size=\"14px\">Rz(0.032π)</text></svg>"
      ],
      "text/plain": [
       "<cirq.contrib.svg.svg.SVGCircuit at 0x1ef92a07448>"
      ]
     },
     "execution_count": 111,
     "metadata": {},
     "output_type": "execute_result"
    }
   ],
   "source": [
    "SVGCircuit(c[2][0])"
   ]
  },
  {
   "cell_type": "code",
   "execution_count": 112,
   "id": "ff3b0ad8",
   "metadata": {},
   "outputs": [
    {
     "data": {
      "image/svg+xml": [
       "<svg xmlns=\"http://www.w3.org/2000/svg\" width=\"423.72265625\" height=\"150.0\"><line x1=\"32.246796875\" x2=\"393.72265625\" y1=\"25.0\" y2=\"25.0\" stroke=\"#1967d2\" stroke-width=\"1\" /><line x1=\"32.246796875\" x2=\"393.72265625\" y1=\"75.0\" y2=\"75.0\" stroke=\"#1967d2\" stroke-width=\"1\" /><line x1=\"32.246796875\" x2=\"393.72265625\" y1=\"125.0\" y2=\"125.0\" stroke=\"#1967d2\" stroke-width=\"1\" /><line x1=\"233.72265625\" x2=\"233.72265625\" y1=\"75.0\" y2=\"125.0\" stroke=\"black\" stroke-width=\"3\" /><line x1=\"293.72265625\" x2=\"293.72265625\" y1=\"25.0\" y2=\"125.0\" stroke=\"black\" stroke-width=\"3\" /><rect x=\"10.0\" y=\"5.0\" width=\"44.49359375\" height=\"40\" stroke=\"black\" fill=\"white\" stroke-width=\"0\" /><text x=\"32.246796875\" y=\"25.0\" dominant-baseline=\"middle\" text-anchor=\"middle\" font-size=\"14px\">(0, 0): </text><rect x=\"10.0\" y=\"55.0\" width=\"44.49359375\" height=\"40\" stroke=\"black\" fill=\"white\" stroke-width=\"0\" /><text x=\"32.246796875\" y=\"75.0\" dominant-baseline=\"middle\" text-anchor=\"middle\" font-size=\"14px\">(0, 1): </text><rect x=\"10.0\" y=\"105.0\" width=\"44.49359375\" height=\"40\" stroke=\"black\" fill=\"white\" stroke-width=\"0\" /><text x=\"32.246796875\" y=\"125.0\" dominant-baseline=\"middle\" text-anchor=\"middle\" font-size=\"14px\">(0, 2): </text><rect x=\"74.49359375\" y=\"55.0\" width=\"49.61453125\" height=\"40\" stroke=\"black\" fill=\"white\" stroke-width=\"1\" /><text x=\"99.300859375\" y=\"75.0\" dominant-baseline=\"middle\" text-anchor=\"middle\" font-size=\"14px\">Rx(v0)</text><rect x=\"144.10812499999997\" y=\"55.0\" width=\"49.61453125\" height=\"40\" stroke=\"black\" fill=\"white\" stroke-width=\"1\" /><text x=\"168.915390625\" y=\"75.0\" dominant-baseline=\"middle\" text-anchor=\"middle\" font-size=\"14px\">Rz(v1)</text><circle cx=\"233.72265625\" cy=\"75.0\" r=\"10.0\" /><rect x=\"213.72265625\" y=\"105.0\" width=\"40\" height=\"40\" stroke=\"black\" fill=\"white\" stroke-width=\"1\" /><text x=\"233.72265625\" y=\"125.0\" dominant-baseline=\"middle\" text-anchor=\"middle\" font-size=\"18px\">X</text><circle cx=\"293.72265625\" cy=\"25.0\" r=\"10.0\" /><circle cx=\"293.72265625\" cy=\"125.0\" r=\"10.0\" /><rect x=\"333.72265625\" y=\"5.0\" width=\"40\" height=\"40\" stroke=\"black\" fill=\"white\" stroke-width=\"1\" /><text x=\"353.72265625\" y=\"25.0\" dominant-baseline=\"middle\" text-anchor=\"middle\" font-size=\"18px\">M</text><rect x=\"333.72265625\" y=\"55.0\" width=\"40\" height=\"40\" stroke=\"black\" fill=\"white\" stroke-width=\"1\" /><text x=\"353.72265625\" y=\"75.0\" dominant-baseline=\"middle\" text-anchor=\"middle\" font-size=\"18px\">M</text><rect x=\"333.72265625\" y=\"105.0\" width=\"40\" height=\"40\" stroke=\"black\" fill=\"white\" stroke-width=\"1\" /><text x=\"353.72265625\" y=\"125.0\" dominant-baseline=\"middle\" text-anchor=\"middle\" font-size=\"18px\">M</text></svg>"
      ],
      "text/plain": [
       "<cirq.contrib.svg.svg.SVGCircuit at 0x1ef92a15488>"
      ]
     },
     "execution_count": 112,
     "metadata": {},
     "output_type": "execute_result"
    }
   ],
   "source": [
    "SVGCircuit(c[2][1])"
   ]
  },
  {
   "cell_type": "code",
   "execution_count": 107,
   "id": "99375778",
   "metadata": {},
   "outputs": [],
   "source": [
    "def prodCodifDensaRyC(gradoX, gradoZ, params,b1,b0):\n",
    "    #construir la primera parte del circuito\n",
    "    \n",
    "    q0, q1 = cq.GridQubit.rect(1,2)\n",
    "    \n",
    "    ent1 = cq.Moment(cq.H(q0))\n",
    "    ent2 = cq.Moment([cq.CNOT(q0,q1)])\n",
    "    \n",
    "    circuitBase = cq.Circuit((ent1,ent2))\n",
    "    \n",
    "    # añadirle la parte que realiza la codificacion superdensa\n",
    "    l = []\n",
    "    if (b1 == 0 and b0 == 1):\n",
    "        circuitBase.append(cq.X(q0))\n",
    "        l.append(cq.Moment([cq.X(q0)]))\n",
    "    elif (b1 == 1 and b0 == 0):\n",
    "        circuitBase.append(cq.Z(q0))\n",
    "        l.append(cq.Moment([cq.Z(q0)]))\n",
    "    elif (b1 == 1 and b0 == 1):\n",
    "        circuitBase.append(cq.X(q0))\n",
    "        circuitBase.append(cq.Z(q0))\n",
    "        l.append(cq.Moment([cq.X(q0)]))\n",
    "        l.append(cq.Moment([cq.Z(q0)]))\n",
    "        \n",
    "    # se inserta el ruido\n",
    "    \n",
    "    circuitBase.append(cq.rx(gradoX).on(q0))\n",
    "   \n",
    "    circuitBase.append(cq.rz(gradoZ).on(q0))\n",
    "    \n",
    "    # ----- FIN DEL CIRCUITO DE ENTRADA ----- #\n",
    "    \n",
    "    # se insertan los parámetros para la corrección \n",
    "    \n",
    "    circuitBase.append(cq.rx(params[0]).on(q0))\n",
    "    \n",
    "    circuitBase.append(cq.rz(params[1]).on(q0))\n",
    "    \n",
    "    # Añadir la decodificacion y la medida\n",
    "    \n",
    "    circuitBase.append(cq.CNOT(q0,q1))\n",
    "\n",
    "    circuitBase.append(cq.H(q0))\n",
    "    \n",
    "    circuitBase.append([cq.measure(q0),cq.measure(q1)])\n",
    "\n",
    "    \n",
    "    \n",
    "    me1 = cq.Moment([cq.rx(gradoX).on(q0)])\n",
    "    me2 = cq.Moment([cq.rz(gradoZ).on(q0)])\n",
    "    l2 = [ent1,ent2]\n",
    "    for i in range(len(l)):\n",
    "        l2.append(l[i])\n",
    "    l2.append(me1)\n",
    "    l2.append(me2)\n",
    "    \n",
    "    circuitoEntrada = cq.Circuit(l2)\n",
    "    \n",
    "    mc1 = cq.Moment([cq.rx(params[0]).on(q0)])\n",
    "    mc2 = cq.Moment([cq.rz(params[1]).on(q0)])\n",
    "    mc3 = cq.Moment([cq.CNOT(q0,q1)])\n",
    "    mc4 = cq.Moment([cq.H(q0)])\n",
    "    mc5 = cq.Moment([cq.measure(q0),cq.measure(q1)])\n",
    "    circuitoControlado = cq.Circuit([mc1,mc2,mc3,mc4,mc5])\n",
    "    \n",
    "    return circuitBase, [q0,q1], [circuitoEntrada, circuitoControlado]"
   ]
  },
  {
   "cell_type": "code",
   "execution_count": 105,
   "id": "8689f052",
   "metadata": {},
   "outputs": [
    {
     "name": "stdout",
     "output_type": "stream",
     "text": [
      "(v0, v1)\n"
     ]
    },
    {
     "data": {
      "image/svg+xml": [
       "<svg xmlns=\"http://www.w3.org/2000/svg\" width=\"862.766171875\" height=\"100.0\"><line x1=\"32.246796875\" x2=\"832.766171875\" y1=\"25.0\" y2=\"25.0\" stroke=\"#1967d2\" stroke-width=\"1\" /><line x1=\"32.246796875\" x2=\"832.766171875\" y1=\"75.0\" y2=\"75.0\" stroke=\"#1967d2\" stroke-width=\"1\" /><line x1=\"154.49359375\" x2=\"154.49359375\" y1=\"25.0\" y2=\"75.0\" stroke=\"black\" stroke-width=\"3\" /><line x1=\"672.766171875\" x2=\"672.766171875\" y1=\"25.0\" y2=\"75.0\" stroke=\"black\" stroke-width=\"3\" /><rect x=\"10.0\" y=\"5.0\" width=\"44.49359375\" height=\"40\" stroke=\"black\" fill=\"white\" stroke-width=\"0\" /><text x=\"32.246796875\" y=\"25.0\" dominant-baseline=\"middle\" text-anchor=\"middle\" font-size=\"14px\">(0, 0): </text><rect x=\"10.0\" y=\"55.0\" width=\"44.49359375\" height=\"40\" stroke=\"black\" fill=\"white\" stroke-width=\"0\" /><text x=\"32.246796875\" y=\"75.0\" dominant-baseline=\"middle\" text-anchor=\"middle\" font-size=\"14px\">(0, 1): </text><rect x=\"74.49359375\" y=\"5.0\" width=\"40\" height=\"40\" stroke=\"black\" fill=\"white\" stroke-width=\"1\" /><text x=\"94.49359375\" y=\"25.0\" dominant-baseline=\"middle\" text-anchor=\"middle\" font-size=\"18px\">H</text><circle cx=\"154.49359375\" cy=\"25.0\" r=\"10.0\" /><rect x=\"134.49359375\" y=\"55.0\" width=\"40\" height=\"40\" stroke=\"black\" fill=\"white\" stroke-width=\"1\" /><text x=\"154.49359375\" y=\"75.0\" dominant-baseline=\"middle\" text-anchor=\"middle\" font-size=\"18px\">X</text><rect x=\"194.49359375\" y=\"5.0\" width=\"40\" height=\"40\" stroke=\"black\" fill=\"white\" stroke-width=\"1\" /><text x=\"214.49359375\" y=\"25.0\" dominant-baseline=\"middle\" text-anchor=\"middle\" font-size=\"18px\">X</text><rect x=\"254.49359375\" y=\"5.0\" width=\"40\" height=\"40\" stroke=\"black\" fill=\"white\" stroke-width=\"1\" /><text x=\"274.49359375\" y=\"25.0\" dominant-baseline=\"middle\" text-anchor=\"middle\" font-size=\"18px\">Z</text><rect x=\"314.49359375\" y=\"5.0\" width=\"79.5217578125\" height=\"40\" stroke=\"black\" fill=\"white\" stroke-width=\"1\" /><text x=\"354.25447265625\" y=\"25.0\" dominant-baseline=\"middle\" text-anchor=\"middle\" font-size=\"14px\">Rx(0.032π)</text><rect x=\"414.0153515625\" y=\"5.0\" width=\"79.5217578125\" height=\"40\" stroke=\"black\" fill=\"white\" stroke-width=\"1\" /><text x=\"453.77623046875\" y=\"25.0\" dominant-baseline=\"middle\" text-anchor=\"middle\" font-size=\"14px\">Rz(0.032π)</text><rect x=\"513.537109375\" y=\"5.0\" width=\"49.61453125\" height=\"40\" stroke=\"black\" fill=\"white\" stroke-width=\"1\" /><text x=\"538.344375\" y=\"25.0\" dominant-baseline=\"middle\" text-anchor=\"middle\" font-size=\"14px\">Rx(v0)</text><rect x=\"583.151640625\" y=\"5.0\" width=\"49.61453125\" height=\"40\" stroke=\"black\" fill=\"white\" stroke-width=\"1\" /><text x=\"607.95890625\" y=\"25.0\" dominant-baseline=\"middle\" text-anchor=\"middle\" font-size=\"14px\">Rz(v1)</text><circle cx=\"672.766171875\" cy=\"25.0\" r=\"10.0\" /><rect x=\"652.766171875\" y=\"55.0\" width=\"40\" height=\"40\" stroke=\"black\" fill=\"white\" stroke-width=\"1\" /><text x=\"672.766171875\" y=\"75.0\" dominant-baseline=\"middle\" text-anchor=\"middle\" font-size=\"18px\">X</text><rect x=\"712.766171875\" y=\"5.0\" width=\"40\" height=\"40\" stroke=\"black\" fill=\"white\" stroke-width=\"1\" /><text x=\"732.766171875\" y=\"25.0\" dominant-baseline=\"middle\" text-anchor=\"middle\" font-size=\"18px\">H</text><rect x=\"712.766171875\" y=\"55.0\" width=\"40\" height=\"40\" stroke=\"black\" fill=\"white\" stroke-width=\"1\" /><text x=\"732.766171875\" y=\"75.0\" dominant-baseline=\"middle\" text-anchor=\"middle\" font-size=\"18px\">M</text><rect x=\"772.766171875\" y=\"5.0\" width=\"40\" height=\"40\" stroke=\"black\" fill=\"white\" stroke-width=\"1\" /><text x=\"792.766171875\" y=\"25.0\" dominant-baseline=\"middle\" text-anchor=\"middle\" font-size=\"18px\">M</text></svg>"
      ],
      "text/plain": [
       "<cirq.contrib.svg.svg.SVGCircuit at 0x1ef92a1ea08>"
      ]
     },
     "execution_count": 105,
     "metadata": {},
     "output_type": "execute_result"
    }
   ],
   "source": [
    "ctr_params = sp.symbols('v0 , v1')\n",
    "print(ctr_params)\n",
    "c = prodCodifDensaRyC(0.1,0.1,ctr_params,1,1)\n",
    "SVGCircuit(c[0])\n"
   ]
  },
  {
   "cell_type": "code",
   "execution_count": 106,
   "id": "67b3760c",
   "metadata": {},
   "outputs": [
    {
     "data": {
      "image/svg+xml": [
       "<svg xmlns=\"http://www.w3.org/2000/svg\" width=\"543.537109375\" height=\"100.0\"><line x1=\"32.246796875\" x2=\"513.537109375\" y1=\"25.0\" y2=\"25.0\" stroke=\"#1967d2\" stroke-width=\"1\" /><line x1=\"32.246796875\" x2=\"513.537109375\" y1=\"75.0\" y2=\"75.0\" stroke=\"#1967d2\" stroke-width=\"1\" /><line x1=\"154.49359375\" x2=\"154.49359375\" y1=\"25.0\" y2=\"75.0\" stroke=\"black\" stroke-width=\"3\" /><rect x=\"10.0\" y=\"5.0\" width=\"44.49359375\" height=\"40\" stroke=\"black\" fill=\"white\" stroke-width=\"0\" /><text x=\"32.246796875\" y=\"25.0\" dominant-baseline=\"middle\" text-anchor=\"middle\" font-size=\"14px\">(0, 0): </text><rect x=\"10.0\" y=\"55.0\" width=\"44.49359375\" height=\"40\" stroke=\"black\" fill=\"white\" stroke-width=\"0\" /><text x=\"32.246796875\" y=\"75.0\" dominant-baseline=\"middle\" text-anchor=\"middle\" font-size=\"14px\">(0, 1): </text><rect x=\"74.49359375\" y=\"5.0\" width=\"40\" height=\"40\" stroke=\"black\" fill=\"white\" stroke-width=\"1\" /><text x=\"94.49359375\" y=\"25.0\" dominant-baseline=\"middle\" text-anchor=\"middle\" font-size=\"18px\">H</text><circle cx=\"154.49359375\" cy=\"25.0\" r=\"10.0\" /><rect x=\"134.49359375\" y=\"55.0\" width=\"40\" height=\"40\" stroke=\"black\" fill=\"white\" stroke-width=\"1\" /><text x=\"154.49359375\" y=\"75.0\" dominant-baseline=\"middle\" text-anchor=\"middle\" font-size=\"18px\">X</text><rect x=\"194.49359375\" y=\"5.0\" width=\"40\" height=\"40\" stroke=\"black\" fill=\"white\" stroke-width=\"1\" /><text x=\"214.49359375\" y=\"25.0\" dominant-baseline=\"middle\" text-anchor=\"middle\" font-size=\"18px\">X</text><rect x=\"254.49359375\" y=\"5.0\" width=\"40\" height=\"40\" stroke=\"black\" fill=\"white\" stroke-width=\"1\" /><text x=\"274.49359375\" y=\"25.0\" dominant-baseline=\"middle\" text-anchor=\"middle\" font-size=\"18px\">Z</text><rect x=\"314.49359375\" y=\"5.0\" width=\"79.5217578125\" height=\"40\" stroke=\"black\" fill=\"white\" stroke-width=\"1\" /><text x=\"354.25447265625\" y=\"25.0\" dominant-baseline=\"middle\" text-anchor=\"middle\" font-size=\"14px\">Rx(0.032π)</text><rect x=\"414.0153515625\" y=\"5.0\" width=\"79.5217578125\" height=\"40\" stroke=\"black\" fill=\"white\" stroke-width=\"1\" /><text x=\"453.77623046875\" y=\"25.0\" dominant-baseline=\"middle\" text-anchor=\"middle\" font-size=\"14px\">Rz(0.032π)</text></svg>"
      ],
      "text/plain": [
       "<cirq.contrib.svg.svg.SVGCircuit at 0x1ef92a1e1c8>"
      ]
     },
     "execution_count": 106,
     "metadata": {},
     "output_type": "execute_result"
    }
   ],
   "source": [
    "SVGCircuit(c[2][0])"
   ]
  },
  {
   "cell_type": "code",
   "execution_count": 104,
   "id": "97105ea6",
   "metadata": {},
   "outputs": [
    {
     "data": {
      "image/svg+xml": [
       "<svg xmlns=\"http://www.w3.org/2000/svg\" width=\"423.72265625\" height=\"100.0\"><line x1=\"32.246796875\" x2=\"393.72265625\" y1=\"25.0\" y2=\"25.0\" stroke=\"#1967d2\" stroke-width=\"1\" /><line x1=\"32.246796875\" x2=\"393.72265625\" y1=\"75.0\" y2=\"75.0\" stroke=\"#1967d2\" stroke-width=\"1\" /><line x1=\"233.72265625\" x2=\"233.72265625\" y1=\"25.0\" y2=\"75.0\" stroke=\"black\" stroke-width=\"3\" /><rect x=\"10.0\" y=\"5.0\" width=\"44.49359375\" height=\"40\" stroke=\"black\" fill=\"white\" stroke-width=\"0\" /><text x=\"32.246796875\" y=\"25.0\" dominant-baseline=\"middle\" text-anchor=\"middle\" font-size=\"14px\">(0, 0): </text><rect x=\"10.0\" y=\"55.0\" width=\"44.49359375\" height=\"40\" stroke=\"black\" fill=\"white\" stroke-width=\"0\" /><text x=\"32.246796875\" y=\"75.0\" dominant-baseline=\"middle\" text-anchor=\"middle\" font-size=\"14px\">(0, 1): </text><rect x=\"74.49359375\" y=\"5.0\" width=\"49.61453125\" height=\"40\" stroke=\"black\" fill=\"white\" stroke-width=\"1\" /><text x=\"99.300859375\" y=\"25.0\" dominant-baseline=\"middle\" text-anchor=\"middle\" font-size=\"14px\">Rx(v0)</text><rect x=\"144.10812499999997\" y=\"5.0\" width=\"49.61453125\" height=\"40\" stroke=\"black\" fill=\"white\" stroke-width=\"1\" /><text x=\"168.915390625\" y=\"25.0\" dominant-baseline=\"middle\" text-anchor=\"middle\" font-size=\"14px\">Rz(v1)</text><circle cx=\"233.72265625\" cy=\"25.0\" r=\"10.0\" /><rect x=\"213.72265625\" y=\"55.0\" width=\"40\" height=\"40\" stroke=\"black\" fill=\"white\" stroke-width=\"1\" /><text x=\"233.72265625\" y=\"75.0\" dominant-baseline=\"middle\" text-anchor=\"middle\" font-size=\"18px\">X</text><rect x=\"273.72265625\" y=\"5.0\" width=\"40\" height=\"40\" stroke=\"black\" fill=\"white\" stroke-width=\"1\" /><text x=\"293.72265625\" y=\"25.0\" dominant-baseline=\"middle\" text-anchor=\"middle\" font-size=\"18px\">H</text><rect x=\"333.72265625\" y=\"5.0\" width=\"40\" height=\"40\" stroke=\"black\" fill=\"white\" stroke-width=\"1\" /><text x=\"353.72265625\" y=\"25.0\" dominant-baseline=\"middle\" text-anchor=\"middle\" font-size=\"18px\">M</text><rect x=\"333.72265625\" y=\"55.0\" width=\"40\" height=\"40\" stroke=\"black\" fill=\"white\" stroke-width=\"1\" /><text x=\"353.72265625\" y=\"75.0\" dominant-baseline=\"middle\" text-anchor=\"middle\" font-size=\"18px\">M</text></svg>"
      ],
      "text/plain": [
       "<cirq.contrib.svg.svg.SVGCircuit at 0x1ef8c9d8208>"
      ]
     },
     "execution_count": 104,
     "metadata": {},
     "output_type": "execute_result"
    }
   ],
   "source": [
    "SVGCircuit(c[2][1])"
   ]
  },
  {
   "cell_type": "markdown",
   "id": "fb51cc74",
   "metadata": {},
   "source": [
    "## Simulación con ruido y parámetros de corrección arbitrarios"
   ]
  },
  {
   "cell_type": "code",
   "execution_count": 69,
   "id": "354e51c3",
   "metadata": {},
   "outputs": [
    {
     "data": {
      "text/plain": [
       "(array([ 7.,  2.,  8.,  6., 19., 24., 19., 15.]),\n",
       " array([0, 1, 2, 3, 4, 5, 6, 7, 8]),\n",
       " <BarContainer object of 8 artists>)"
      ]
     },
     "execution_count": 69,
     "metadata": {},
     "output_type": "execute_result"
    },
    {
     "data": {
      "image/png": "[encoded data removed]",
      "text/plain": [
       "<Figure size 432x288 with 1 Axes>"
      ]
     },
     "metadata": {
      "needs_background": "light"
     },
     "output_type": "display_data"
    }
   ],
   "source": [
    "sim = Simulator()\n",
    "ctr_params = sp.symbols('v0 , v1')\n",
    "resolver = cq.ParamResolver({ctr_params[0] : 0.5 , ctr_params[1] : 0.5})\n",
    "c2 = prodTelepRyC(0.3, 0.3, ctr_params)[0]\n",
    "\n",
    "vec = np.zeros(100)\n",
    "\n",
    "for i in range(100):\n",
    "    res = sim.simulate(c2,resolver,initial_state = 0b100)\n",
    "\n",
    "    b2 = res.measurements['(0, 2)'][0]\n",
    "    b1 = res.measurements['(0, 1)'][0]\n",
    "    b0 = res.measurements['(0, 0)'][0]\n",
    "    num = 4*b2 + 2*b1 + b0\n",
    "    vec[i] +=  num\n",
    "\n",
    "plt.hist(vec, bins = [0,1,2,3,4,5,6,7,8], align = 'left', rwidth = 0.5)"
   ]
  },
  {
   "cell_type": "code",
   "execution_count": 72,
   "id": "ea72ecf8",
   "metadata": {},
   "outputs": [
    {
     "data": {
      "text/plain": [
       "(array([ 2., 16., 13., 69.]),\n",
       " array([0, 1, 2, 3, 4]),\n",
       " <BarContainer object of 4 artists>)"
      ]
     },
     "execution_count": 72,
     "metadata": {},
     "output_type": "execute_result"
    },
    {
     "data": {
      "image/png": "[encoded data removed]",
      "text/plain": [
       "<Figure size 432x288 with 1 Axes>"
      ]
     },
     "metadata": {
      "needs_background": "light"
     },
     "output_type": "display_data"
    }
   ],
   "source": [
    "sim = Simulator()\n",
    "ctr_params = sp.symbols('v0 , v1')\n",
    "resolver = cq.ParamResolver({ctr_params[0] : 0.5 , ctr_params[1] : 0.5})\n",
    "c1 = prodCodifDensaRyC(0.3, 0.3, ctr_params, 1, 1)[0]\n",
    "res = sim.simulate(c1, resolver, initial_state = 0b00)\n",
    "\n",
    "vec = np.zeros(100)\n",
    "\n",
    "for i in range(100):\n",
    "    res = sim.simulate(c1,resolver,initial_state = 0b00)\n",
    "    b1 = res.measurements['(0, 1)'][0]\n",
    "    b0 = res.measurements['(0, 0)'][0]\n",
    "    num = 2*b1 + b0\n",
    "    vec[i] +=  num\n",
    "\n",
    "plt.hist(vec,bins = [0,1,2,3,4], align = 'left', rwidth = 0.5)"
   ]
  },
  {
   "cell_type": "markdown",
   "id": "47bc2e1a",
   "metadata": {},
   "source": [
    "## Simulación Empleando TensorFlowQuantum"
   ]
  },
  {
   "cell_type": "code",
   "execution_count": 73,
   "id": "98074a48",
   "metadata": {},
   "outputs": [
    {
     "name": "stdout",
     "output_type": "stream",
     "text": [
      "[[2.3418152 5.269848 ]\n",
      " [1.7613109 1.2870758]\n",
      " [5.1614494 0.8267597]\n",
      " [1.932083  5.5356364]\n",
      " [2.4251993 4.524578 ]\n",
      " [4.5161176 3.4962199]\n",
      " [5.133523  4.7875967]\n",
      " [4.1353703 4.4179425]\n",
      " [2.9283957 4.412433 ]\n",
      " [4.277173  2.926713 ]]\n"
     ]
    }
   ],
   "source": [
    "valores_ruido = np.array(np.random.uniform(0, 2 * np.pi, (10,2)), dtype = np.float32)\n",
    "print(valores_ruido)"
   ]
  },
  {
   "cell_type": "code",
   "execution_count": 80,
   "id": "35e3d0ab",
   "metadata": {},
   "outputs": [
    {
     "name": "stdout",
     "output_type": "stream",
     "text": [
      "[cirq.GridQubit(0, 0), cirq.GridQubit(0, 1), cirq.GridQubit(0, 2)]\n"
     ]
    },
    {
     "data": {
      "image/svg+xml": [
       "<svg xmlns=\"http://www.w3.org/2000/svg\" width=\"842.766171875\" height=\"190.0\"><line x1=\"32.246796875\" x2=\"812.766171875\" y1=\"45.0\" y2=\"45.0\" stroke=\"#1967d2\" stroke-width=\"1\" /><line x1=\"32.246796875\" x2=\"812.766171875\" y1=\"95.0\" y2=\"95.0\" stroke=\"#1967d2\" stroke-width=\"1\" /><line x1=\"32.246796875\" x2=\"812.766171875\" y1=\"145.0\" y2=\"145.0\" stroke=\"#1967d2\" stroke-width=\"1\" /><line x1=\"642.766171875\" x2=\"732.766171875\" y1=\"5.0\" y2=\"5.0\" stroke=\"black\" stroke-width=\"1\" /><line x1=\"642.766171875\" x2=\"732.766171875\" y1=\"185.0\" y2=\"185.0\" stroke=\"black\" stroke-width=\"1\" /><line x1=\"154.49359375\" x2=\"154.49359375\" y1=\"95.0\" y2=\"145.0\" stroke=\"black\" stroke-width=\"3\" /><line x1=\"214.49359375\" x2=\"214.49359375\" y1=\"45.0\" y2=\"95.0\" stroke=\"black\" stroke-width=\"3\" /><line x1=\"612.766171875\" x2=\"612.766171875\" y1=\"95.0\" y2=\"145.0\" stroke=\"black\" stroke-width=\"3\" /><line x1=\"662.766171875\" x2=\"662.766171875\" y1=\"45.0\" y2=\"145.0\" stroke=\"black\" stroke-width=\"3\" /><line x1=\"642.766171875\" x2=\"642.766171875\" y1=\"5.0\" y2=\"15.0\" stroke=\"black\" stroke-width=\"3\" /><line x1=\"732.766171875\" x2=\"732.766171875\" y1=\"5.0\" y2=\"15.0\" stroke=\"black\" stroke-width=\"3\" /><line x1=\"642.766171875\" x2=\"642.766171875\" y1=\"175.0\" y2=\"185.0\" stroke=\"black\" stroke-width=\"3\" /><line x1=\"732.766171875\" x2=\"732.766171875\" y1=\"175.0\" y2=\"185.0\" stroke=\"black\" stroke-width=\"3\" /><rect x=\"10.0\" y=\"25.0\" width=\"44.49359375\" height=\"40\" stroke=\"black\" fill=\"white\" stroke-width=\"0\" /><text x=\"32.246796875\" y=\"45.0\" dominant-baseline=\"middle\" text-anchor=\"middle\" font-size=\"14px\">(0, 0): </text><rect x=\"10.0\" y=\"75.0\" width=\"44.49359375\" height=\"40\" stroke=\"black\" fill=\"white\" stroke-width=\"0\" /><text x=\"32.246796875\" y=\"95.0\" dominant-baseline=\"middle\" text-anchor=\"middle\" font-size=\"14px\">(0, 1): </text><rect x=\"10.0\" y=\"125.0\" width=\"44.49359375\" height=\"40\" stroke=\"black\" fill=\"white\" stroke-width=\"0\" /><text x=\"32.246796875\" y=\"145.0\" dominant-baseline=\"middle\" text-anchor=\"middle\" font-size=\"14px\">(0, 2): </text><rect x=\"74.49359375\" y=\"75.0\" width=\"40\" height=\"40\" stroke=\"black\" fill=\"white\" stroke-width=\"1\" /><text x=\"94.49359375\" y=\"95.0\" dominant-baseline=\"middle\" text-anchor=\"middle\" font-size=\"18px\">H</text><circle cx=\"154.49359375\" cy=\"95.0\" r=\"10.0\" /><rect x=\"134.49359375\" y=\"125.0\" width=\"40\" height=\"40\" stroke=\"black\" fill=\"white\" stroke-width=\"1\" /><text x=\"154.49359375\" y=\"145.0\" dominant-baseline=\"middle\" text-anchor=\"middle\" font-size=\"18px\">X</text><circle cx=\"214.49359375\" cy=\"45.0\" r=\"10.0\" /><rect x=\"194.49359375\" y=\"75.0\" width=\"40\" height=\"40\" stroke=\"black\" fill=\"white\" stroke-width=\"1\" /><text x=\"214.49359375\" y=\"95.0\" dominant-baseline=\"middle\" text-anchor=\"middle\" font-size=\"18px\">X</text><rect x=\"254.49359375\" y=\"25.0\" width=\"79.5217578125\" height=\"40\" stroke=\"black\" fill=\"white\" stroke-width=\"1\" /><text x=\"294.25447265625\" y=\"45.0\" dominant-baseline=\"middle\" text-anchor=\"middle\" font-size=\"18px\">H</text><rect x=\"254.49359375\" y=\"75.0\" width=\"79.5217578125\" height=\"40\" stroke=\"black\" fill=\"white\" stroke-width=\"1\" /><text x=\"294.25447265625\" y=\"95.0\" dominant-baseline=\"middle\" text-anchor=\"middle\" font-size=\"14px\">Rx(0.095π)</text><rect x=\"354.0153515625\" y=\"75.0\" width=\"79.5217578125\" height=\"40\" stroke=\"black\" fill=\"white\" stroke-width=\"1\" /><text x=\"393.77623046875\" y=\"95.0\" dominant-baseline=\"middle\" text-anchor=\"middle\" font-size=\"14px\">Rz(0.095π)</text><rect x=\"453.537109375\" y=\"75.0\" width=\"49.61453125\" height=\"40\" stroke=\"black\" fill=\"white\" stroke-width=\"1\" /><text x=\"478.344375\" y=\"95.0\" dominant-baseline=\"middle\" text-anchor=\"middle\" font-size=\"14px\">Rx(v0)</text><rect x=\"523.151640625\" y=\"75.0\" width=\"49.61453125\" height=\"40\" stroke=\"black\" fill=\"white\" stroke-width=\"1\" /><text x=\"547.95890625\" y=\"95.0\" dominant-baseline=\"middle\" text-anchor=\"middle\" font-size=\"14px\">Rz(v1)</text><circle cx=\"612.766171875\" cy=\"95.0\" r=\"10.0\" /><rect x=\"592.766171875\" y=\"125.0\" width=\"40\" height=\"40\" stroke=\"black\" fill=\"white\" stroke-width=\"1\" /><text x=\"612.766171875\" y=\"145.0\" dominant-baseline=\"middle\" text-anchor=\"middle\" font-size=\"18px\">X</text><circle cx=\"662.766171875\" cy=\"45.0\" r=\"10.0\" /><circle cx=\"662.766171875\" cy=\"145.0\" r=\"10.0\" /><rect x=\"682.766171875\" y=\"75.0\" width=\"40\" height=\"40\" stroke=\"black\" fill=\"white\" stroke-width=\"1\" /><text x=\"702.766171875\" y=\"95.0\" dominant-baseline=\"middle\" text-anchor=\"middle\" font-size=\"18px\">M</text><rect x=\"752.766171875\" y=\"25.0\" width=\"40\" height=\"40\" stroke=\"black\" fill=\"white\" stroke-width=\"1\" /><text x=\"772.766171875\" y=\"45.0\" dominant-baseline=\"middle\" text-anchor=\"middle\" font-size=\"18px\">M</text><rect x=\"752.766171875\" y=\"125.0\" width=\"40\" height=\"40\" stroke=\"black\" fill=\"white\" stroke-width=\"1\" /><text x=\"772.766171875\" y=\"145.0\" dominant-baseline=\"middle\" text-anchor=\"middle\" font-size=\"18px\">M</text></svg>"
      ],
      "text/plain": [
       "<cirq.contrib.svg.svg.SVGCircuit at 0x1ef8c9bf508>"
      ]
     },
     "execution_count": 80,
     "metadata": {},
     "output_type": "execute_result"
    }
   ],
   "source": [
    "ctr_params = sp.symbols('v0 , v1')\n",
    "c2, qubits = prodTelepRyC(0.3, 0.3, ctr_params)\n",
    "print(qubits)\n",
    "SVGCircuit(c2)\n"
   ]
  },
  {
   "cell_type": "code",
   "execution_count": 79,
   "id": "b8a0a5c7",
   "metadata": {},
   "outputs": [
    {
     "name": "stdout",
     "output_type": "stream",
     "text": [
      "(1,)\n",
      "<dtype: 'string'>\n"
     ]
    }
   ],
   "source": [
    "circuit_tensor = tfq.convert_to_tensor([c2])\n",
    "print(circuit_tensor.shape)\n",
    "print(circuit_tensor.dtype)"
   ]
  },
  {
   "cell_type": "code",
   "execution_count": 89,
   "id": "debd4df3",
   "metadata": {},
   "outputs": [
    {
     "name": "stdout",
     "output_type": "stream",
     "text": [
      "tf.Tensor(\n",
      "[[-0.86822283]\n",
      " [-0.4581198 ]\n",
      " [ 0.669061  ]\n",
      " [-0.60178596]\n",
      " [-0.9058864 ]\n",
      " [ 0.0905973 ]\n",
      " [ 0.64819115]\n",
      " [-0.2845511 ]\n",
      " [-0.9934424 ]\n",
      " [-0.14677276]], shape=(10, 1), dtype=float32)\n"
     ]
    }
   ],
   "source": [
    "z = cq.Z(qubits[2])\n",
    "r = tfq.layers.Expectation()(c2 , symbol_names = [ctr_params[0], ctr_params[1]] , symbol_values = valores_ruido , operators = z)\n",
    "print(r)"
   ]
  }
 ],
 "metadata": {
  "kernelspec": {
   "display_name": "Python 3",
   "language": "python",
   "name": "python3"
  },
  "language_info": {
   "codemirror_mode": {
    "name": "ipython",
    "version": 3
   },
   "file_extension": ".py",
   "mimetype": "text/x-python",
   "name": "python",
   "nbconvert_exporter": "python",
   "pygments_lexer": "ipython3",
   "version": "3.7.10"
  }
 },
 "nbformat": 4,
 "nbformat_minor": 5
}
