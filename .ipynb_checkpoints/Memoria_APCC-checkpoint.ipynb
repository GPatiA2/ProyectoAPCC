{
 "cells": [
  {
   "cell_type": "markdown",
   "id": "d13307af",
   "metadata": {},
   "source": [
    "# Proyecto APCC : Corrección de errores con redes neuronales"
   ]
  },
  {
   "cell_type": "markdown",
   "id": "18276f67",
   "metadata": {},
   "source": [
    "__Guillermo García Patiño Lenza__"
   ]
  },
  {
   "cell_type": "markdown",
   "id": "2b631e39",
   "metadata": {},
   "source": [
    "## Índice:"
   ]
  },
  {
   "cell_type": "code",
   "execution_count": 1,
   "id": "b9d89d6c",
   "metadata": {},
   "outputs": [],
   "source": [
    "import tensorflow_quantum as tfq\n",
    "import sympy as sp\n",
    "from cirq import Simulator\n",
    "import tensorflow as tf\n",
    "import cirq as cq\n",
    "import matplotlib.pyplot as plt\n",
    "import numpy as np\n",
    "from cirq.contrib.svg import SVGCircuit"
   ]
  },
  {
   "cell_type": "markdown",
   "id": "825e8bfa",
   "metadata": {},
   "source": [
    "## Definición de los circuitos a emplear"
   ]
  },
  {
   "cell_type": "code",
   "execution_count": 2,
   "id": "5bd22af3",
   "metadata": {},
   "outputs": [],
   "source": [
    "def producirCircuitoTeleportacion():\n",
    "    # Este qubit tiene el estado que se quiere enviar\n",
    "    q0 = cq.NamedQubit('q0')\n",
    "    # Qubit de Alice\n",
    "    q1 = cq.NamedQubit('q1')\n",
    "    # Qubit de Bob\n",
    "    q2 = cq.NamedQubit('q2')\n",
    "    \n",
    "    momentos = []\n",
    "    \n",
    "    # Entrelazo q1 y q2\n",
    "    m1 = cq.Moment([cq.H(q1)])\n",
    "    momentos.append(m1)\n",
    "    m2 = cq.Moment([cq.CNOT(q1,q2)])\n",
    "    momentos.append(m2)\n",
    "    \n",
    "    # Codificar el estado de q0 en q1\n",
    "    m3 = cq.Moment([cq.CNOT(q0,q1)])\n",
    "    momentos.append(m3)\n",
    "    m4 = cq.Moment([cq.H(q0)])\n",
    "    momentos.append(m4)\n",
    "    \n",
    "    # Decodificar el estado de q0\n",
    "    m5 = cq.Moment([cq.CNOT(q1,q2)])\n",
    "    momentos.append(m5)\n",
    "    m6 = cq.Moment([cq.CZ(q0,q2)])\n",
    "    momentos.append(m6)\n",
    "    \n",
    "    # medir\n",
    "    m7 = cq.Moment([cq.measure(q0), cq.measure(q1), cq.measure(q2)])\n",
    "    momentos.append(m7)\n",
    "    \n",
    "    circuito = cq.Circuit(momentos)\n",
    "    \n",
    "    return circuito, momentos"
   ]
  },
  {
   "cell_type": "code",
   "execution_count": 3,
   "id": "32dfa528",
   "metadata": {
    "scrolled": false
   },
   "outputs": [
    {
     "data": {
      "image/svg+xml": [
       "<svg xmlns=\"http://www.w3.org/2000/svg\" width=\"520.0\" height=\"150.0\"><line x1=\"30.0\" x2=\"490.0\" y1=\"25.0\" y2=\"25.0\" stroke=\"#1967d2\" stroke-width=\"1\" /><line x1=\"30.0\" x2=\"490.0\" y1=\"75.0\" y2=\"75.0\" stroke=\"#1967d2\" stroke-width=\"1\" /><line x1=\"30.0\" x2=\"490.0\" y1=\"125.0\" y2=\"125.0\" stroke=\"#1967d2\" stroke-width=\"1\" /><line x1=\"150.0\" x2=\"150.0\" y1=\"75.0\" y2=\"125.0\" stroke=\"black\" stroke-width=\"3\" /><line x1=\"210.0\" x2=\"210.0\" y1=\"25.0\" y2=\"75.0\" stroke=\"black\" stroke-width=\"3\" /><line x1=\"330.0\" x2=\"330.0\" y1=\"75.0\" y2=\"125.0\" stroke=\"black\" stroke-width=\"3\" /><line x1=\"390.0\" x2=\"390.0\" y1=\"25.0\" y2=\"125.0\" stroke=\"black\" stroke-width=\"3\" /><rect x=\"10.0\" y=\"5.0\" width=\"40\" height=\"40\" stroke=\"black\" fill=\"white\" stroke-width=\"0\" /><text x=\"30.0\" y=\"25.0\" dominant-baseline=\"middle\" text-anchor=\"middle\" font-size=\"14px\">q0: </text><rect x=\"10.0\" y=\"55.0\" width=\"40\" height=\"40\" stroke=\"black\" fill=\"white\" stroke-width=\"0\" /><text x=\"30.0\" y=\"75.0\" dominant-baseline=\"middle\" text-anchor=\"middle\" font-size=\"14px\">q1: </text><rect x=\"10.0\" y=\"105.0\" width=\"40\" height=\"40\" stroke=\"black\" fill=\"white\" stroke-width=\"0\" /><text x=\"30.0\" y=\"125.0\" dominant-baseline=\"middle\" text-anchor=\"middle\" font-size=\"14px\">q2: </text><rect x=\"70.0\" y=\"55.0\" width=\"40\" height=\"40\" stroke=\"black\" fill=\"white\" stroke-width=\"1\" /><text x=\"90.0\" y=\"75.0\" dominant-baseline=\"middle\" text-anchor=\"middle\" font-size=\"18px\">H</text><circle cx=\"150.0\" cy=\"75.0\" r=\"10.0\" /><rect x=\"130.0\" y=\"105.0\" width=\"40\" height=\"40\" stroke=\"black\" fill=\"white\" stroke-width=\"1\" /><text x=\"150.0\" y=\"125.0\" dominant-baseline=\"middle\" text-anchor=\"middle\" font-size=\"18px\">X</text><circle cx=\"210.0\" cy=\"25.0\" r=\"10.0\" /><rect x=\"190.0\" y=\"55.0\" width=\"40\" height=\"40\" stroke=\"black\" fill=\"white\" stroke-width=\"1\" /><text x=\"210.0\" y=\"75.0\" dominant-baseline=\"middle\" text-anchor=\"middle\" font-size=\"18px\">X</text><rect x=\"250.0\" y=\"5.0\" width=\"40\" height=\"40\" stroke=\"black\" fill=\"white\" stroke-width=\"1\" /><text x=\"270.0\" y=\"25.0\" dominant-baseline=\"middle\" text-anchor=\"middle\" font-size=\"18px\">H</text><circle cx=\"330.0\" cy=\"75.0\" r=\"10.0\" /><rect x=\"310.0\" y=\"105.0\" width=\"40\" height=\"40\" stroke=\"black\" fill=\"white\" stroke-width=\"1\" /><text x=\"330.0\" y=\"125.0\" dominant-baseline=\"middle\" text-anchor=\"middle\" font-size=\"18px\">X</text><circle cx=\"390.0\" cy=\"25.0\" r=\"10.0\" /><circle cx=\"390.0\" cy=\"125.0\" r=\"10.0\" /><rect x=\"430.0\" y=\"5.0\" width=\"40\" height=\"40\" stroke=\"black\" fill=\"white\" stroke-width=\"1\" /><text x=\"450.0\" y=\"25.0\" dominant-baseline=\"middle\" text-anchor=\"middle\" font-size=\"18px\">M</text><rect x=\"430.0\" y=\"55.0\" width=\"40\" height=\"40\" stroke=\"black\" fill=\"white\" stroke-width=\"1\" /><text x=\"450.0\" y=\"75.0\" dominant-baseline=\"middle\" text-anchor=\"middle\" font-size=\"18px\">M</text><rect x=\"430.0\" y=\"105.0\" width=\"40\" height=\"40\" stroke=\"black\" fill=\"white\" stroke-width=\"1\" /><text x=\"450.0\" y=\"125.0\" dominant-baseline=\"middle\" text-anchor=\"middle\" font-size=\"18px\">M</text></svg>"
      ],
      "text/plain": [
       "<cirq.contrib.svg.svg.SVGCircuit at 0x29eb9eb3e48>"
      ]
     },
     "execution_count": 3,
     "metadata": {},
     "output_type": "execute_result"
    }
   ],
   "source": [
    "c , m = producirCircuitoTeleportacion()\n",
    "SVGCircuit(c)"
   ]
  },
  {
   "cell_type": "code",
   "execution_count": 4,
   "id": "0f19be26",
   "metadata": {},
   "outputs": [],
   "source": [
    "def codificacionDensa(b1,b0):\n",
    "    mlist = []\n",
    "    if (b1 == 0 and b0 == 1):\n",
    "        m = cq.Moment([cq.X(q_0)])\n",
    "        mlist.append(m)\n",
    "    elif (b1 == 1 and b0 == 0):\n",
    "        m = cq.Moment([cq.Z(q_0)])\n",
    "        mlist.append(m)\n",
    "    elif (b1 == 1 and b0 == 1):\n",
    "        m1 = cq.Moment([cq.X(q_0)])\n",
    "        m2 = cq.Moment([cq.Z(q_0)])\n",
    "        mlist.append(m1)\n",
    "        mlist.append(m2)\n",
    "    return mlist"
   ]
  },
  {
   "cell_type": "code",
   "execution_count": 5,
   "id": "631d92d2",
   "metadata": {},
   "outputs": [],
   "source": [
    "def producirCircuitoCodificacion(b1,b0):\n",
    "    q0 = cq.NamedQubit('q0')\n",
    "    q1 = cq.NamedQubit('q1')\n",
    "    \n",
    "    momentos = []\n",
    "    \n",
    "    # Crear el par entrelazado\n",
    "    m1 = cq.Moment([cq.H(q0)])\n",
    "    momentos.append(m1)\n",
    "    m2 = cq.Moment([cq.CNOT(q0,q1)])\n",
    "    momentos.append(m2)\n",
    "    \n",
    "    # Codificar los bits clasicos a enviar en q0\n",
    "    if (b1 == 0 and b0 == 1):\n",
    "        m = cq.Moment([cq.X(q0)])\n",
    "        momentos.append(m)\n",
    "    elif (b1 == 1 and b0 == 0):\n",
    "        m = cq.Moment([cq.Z(q0)])\n",
    "        momentos.append(m)\n",
    "    elif (b1 == 1 and b0 == 1):\n",
    "        mc1 = cq.Moment([cq.X(q0)])\n",
    "        mc2 = cq.Moment([cq.Z(q0)])\n",
    "        momentos.append(mc1)\n",
    "        momentos.append(mc2)\n",
    "        \n",
    "    m3 = cq.Moment([cq.CNOT(q0,q1)])\n",
    "    momentos.append(m3)\n",
    "    \n",
    "    m4 = cq.Moment([cq.H(q0)])\n",
    "    momentos.append(m4)\n",
    "    \n",
    "    m5 = cq.Moment([cq.measure(q0), cq.measure(q1)])\n",
    "    momentos.append(m5)\n",
    "    \n",
    "    circuit = cq.Circuit(momentos)\n",
    "    return circuit, momentos"
   ]
  },
  {
   "cell_type": "code",
   "execution_count": 6,
   "id": "d65dea6b",
   "metadata": {},
   "outputs": [
    {
     "data": {
      "image/svg+xml": [
       "<svg xmlns=\"http://www.w3.org/2000/svg\" width=\"520.0\" height=\"100.0\"><line x1=\"30.0\" x2=\"490.0\" y1=\"25.0\" y2=\"25.0\" stroke=\"#1967d2\" stroke-width=\"1\" /><line x1=\"30.0\" x2=\"490.0\" y1=\"75.0\" y2=\"75.0\" stroke=\"#1967d2\" stroke-width=\"1\" /><line x1=\"150.0\" x2=\"150.0\" y1=\"25.0\" y2=\"75.0\" stroke=\"black\" stroke-width=\"3\" /><line x1=\"330.0\" x2=\"330.0\" y1=\"25.0\" y2=\"75.0\" stroke=\"black\" stroke-width=\"3\" /><rect x=\"10.0\" y=\"5.0\" width=\"40\" height=\"40\" stroke=\"black\" fill=\"white\" stroke-width=\"0\" /><text x=\"30.0\" y=\"25.0\" dominant-baseline=\"middle\" text-anchor=\"middle\" font-size=\"14px\">q0: </text><rect x=\"10.0\" y=\"55.0\" width=\"40\" height=\"40\" stroke=\"black\" fill=\"white\" stroke-width=\"0\" /><text x=\"30.0\" y=\"75.0\" dominant-baseline=\"middle\" text-anchor=\"middle\" font-size=\"14px\">q1: </text><rect x=\"70.0\" y=\"5.0\" width=\"40\" height=\"40\" stroke=\"black\" fill=\"white\" stroke-width=\"1\" /><text x=\"90.0\" y=\"25.0\" dominant-baseline=\"middle\" text-anchor=\"middle\" font-size=\"18px\">H</text><circle cx=\"150.0\" cy=\"25.0\" r=\"10.0\" /><rect x=\"130.0\" y=\"55.0\" width=\"40\" height=\"40\" stroke=\"black\" fill=\"white\" stroke-width=\"1\" /><text x=\"150.0\" y=\"75.0\" dominant-baseline=\"middle\" text-anchor=\"middle\" font-size=\"18px\">X</text><rect x=\"190.0\" y=\"5.0\" width=\"40\" height=\"40\" stroke=\"black\" fill=\"white\" stroke-width=\"1\" /><text x=\"210.0\" y=\"25.0\" dominant-baseline=\"middle\" text-anchor=\"middle\" font-size=\"18px\">X</text><rect x=\"250.0\" y=\"5.0\" width=\"40\" height=\"40\" stroke=\"black\" fill=\"white\" stroke-width=\"1\" /><text x=\"270.0\" y=\"25.0\" dominant-baseline=\"middle\" text-anchor=\"middle\" font-size=\"18px\">Z</text><circle cx=\"330.0\" cy=\"25.0\" r=\"10.0\" /><rect x=\"310.0\" y=\"55.0\" width=\"40\" height=\"40\" stroke=\"black\" fill=\"white\" stroke-width=\"1\" /><text x=\"330.0\" y=\"75.0\" dominant-baseline=\"middle\" text-anchor=\"middle\" font-size=\"18px\">X</text><rect x=\"370.0\" y=\"5.0\" width=\"40\" height=\"40\" stroke=\"black\" fill=\"white\" stroke-width=\"1\" /><text x=\"390.0\" y=\"25.0\" dominant-baseline=\"middle\" text-anchor=\"middle\" font-size=\"18px\">H</text><rect x=\"430.0\" y=\"5.0\" width=\"40\" height=\"40\" stroke=\"black\" fill=\"white\" stroke-width=\"1\" /><text x=\"450.0\" y=\"25.0\" dominant-baseline=\"middle\" text-anchor=\"middle\" font-size=\"18px\">M</text><rect x=\"430.0\" y=\"55.0\" width=\"40\" height=\"40\" stroke=\"black\" fill=\"white\" stroke-width=\"1\" /><text x=\"450.0\" y=\"75.0\" dominant-baseline=\"middle\" text-anchor=\"middle\" font-size=\"18px\">M</text></svg>"
      ],
      "text/plain": [
       "<cirq.contrib.svg.svg.SVGCircuit at 0x29eb9eb1748>"
      ]
     },
     "execution_count": 6,
     "metadata": {},
     "output_type": "execute_result"
    }
   ],
   "source": [
    "c2, m2 = producirCircuitoCodificacion(1,1)\n",
    "SVGCircuit(c2)"
   ]
  },
  {
   "cell_type": "markdown",
   "id": "db98314d",
   "metadata": {},
   "source": [
    "## Definición de los circuitos con ruido y corrección parametrizados:"
   ]
  },
  {
   "cell_type": "code",
   "execution_count": 11,
   "id": "19232715",
   "metadata": {},
   "outputs": [],
   "source": [
    "def prodTelepRyC(gradoX, gradoZ, q0val, params):\n",
    "    \n",
    "    # q0 contiene el estado que se quiere enviar\n",
    "    # q1 es el qubit de Alice\n",
    "    # q2 es el qubit de Bob\n",
    "    \n",
    "    q0,q1,q2 = cq.GridQubit.rect(1,3)\n",
    "    \n",
    "    mIni = []\n",
    "    \n",
    "    # Se prepara q0 en el estado deseado\n",
    "    if(q0val == 1):\n",
    "        mIni.append(cq.Moment([cq.X(q0)]))\n",
    "        \n",
    "    # Entrelazo q1 y q2\n",
    "    m1 = cq.Moment([cq.H(q1)])\n",
    "    mIni.append(m1)\n",
    "    m2 = cq.Moment([cq.CNOT(q1,q2)])\n",
    "    mIni.append(m2)\n",
    "    \n",
    "    circuitoBase = cq.Circuit(mIni)\n",
    "    \n",
    "    # Codificar el estado de q0 en q1\n",
    "    circuitoBase.append(cq.CNOT(q0,q1))\n",
    "    circuitoBase.append(cq.H(q0))\n",
    "    \n",
    "    # Se inserta el ruido a la hora de enviar el bit\n",
    "    circuitoBase.append(cq.rx(gradoX).on(q1))\n",
    "    circuitoBase.append(cq.rz(gradoZ).on(q1))\n",
    "    \n",
    "    # Se insertan puertas X y Z para corregir el ruido\n",
    "    circuitoBase.append(cq.rx(params[0]).on(q1))\n",
    "    circuitoBase.append(cq.rz(params[1]).on(q1))\n",
    "    \n",
    "    # Decodificar el estado de q0\n",
    "    circuitoBase.append(cq.CNOT(q1,q2))    \n",
    "    circuitoBase.append(cq.CZ(q0,q2))\n",
    "\n",
    "    \n",
    "    # medir\n",
    "    circuitoBase.append([cq.measure(q0), cq.measure(q1), cq.measure(q2)])\n",
    "    \n",
    "    me = []\n",
    "    if (q0val == 1):\n",
    "        me.append(cq.Moment([cq.X(q0)]))\n",
    "    me.append(m1)\n",
    "    me.append(m2)\n",
    "    \n",
    "    me1 = cq.Moment([cq.CNOT(q0,q1)])\n",
    "    me.append(me1)\n",
    "    me2 = cq.Moment([cq.H(q0)])\n",
    "    me.append(me2)\n",
    "    me3 = cq.Moment([cq.rx(gradoX).on(q1)])\n",
    "    me.append(me3)\n",
    "    me4 = cq.Moment([cq.rz(gradoZ).on(q1)])\n",
    "    me.append(me4)\n",
    "    circuitoEntrada = cq.Circuit(me)\n",
    "    \n",
    "    mc1 = cq.Moment([cq.rx(params[0]).on(q1)])\n",
    "    mc2 = cq.Moment([cq.rz(params[1]).on(q1)])\n",
    "    mc3 = cq.Moment([cq.CNOT(q1,q2)])\n",
    "    mc4 = cq.Moment([cq.CZ(q0,q2)])\n",
    "    mc5 = cq.Moment([cq.measure(q0), cq.measure(q1), cq.measure(q2)])\n",
    "    circuitoControlado = cq.Circuit([mc1,mc2,mc3,mc4,mc5])\n",
    "    \n",
    "    return circuitoBase, [q0,q1,q2], [circuitoEntrada, circuitoControlado]"
   ]
  },
  {
   "cell_type": "code",
   "execution_count": 12,
   "id": "89c784f8",
   "metadata": {},
   "outputs": [
    {
     "name": "stdout",
     "output_type": "stream",
     "text": [
      "(v0, v1)\n"
     ]
    },
    {
     "data": {
      "image/svg+xml": [
       "<svg xmlns=\"http://www.w3.org/2000/svg\" width=\"811.621640625\" height=\"190.0\"><line x1=\"32.246796875\" x2=\"781.621640625\" y1=\"45.0\" y2=\"45.0\" stroke=\"#1967d2\" stroke-width=\"1\" /><line x1=\"32.246796875\" x2=\"781.621640625\" y1=\"95.0\" y2=\"95.0\" stroke=\"#1967d2\" stroke-width=\"1\" /><line x1=\"32.246796875\" x2=\"781.621640625\" y1=\"145.0\" y2=\"145.0\" stroke=\"#1967d2\" stroke-width=\"1\" /><line x1=\"611.621640625\" x2=\"701.621640625\" y1=\"5.0\" y2=\"5.0\" stroke=\"black\" stroke-width=\"1\" /><line x1=\"611.621640625\" x2=\"701.621640625\" y1=\"185.0\" y2=\"185.0\" stroke=\"black\" stroke-width=\"1\" /><line x1=\"154.49359375\" x2=\"154.49359375\" y1=\"95.0\" y2=\"145.0\" stroke=\"black\" stroke-width=\"3\" /><line x1=\"214.49359375\" x2=\"214.49359375\" y1=\"45.0\" y2=\"95.0\" stroke=\"black\" stroke-width=\"3\" /><line x1=\"581.621640625\" x2=\"581.621640625\" y1=\"95.0\" y2=\"145.0\" stroke=\"black\" stroke-width=\"3\" /><line x1=\"631.621640625\" x2=\"631.621640625\" y1=\"45.0\" y2=\"145.0\" stroke=\"black\" stroke-width=\"3\" /><line x1=\"611.621640625\" x2=\"611.621640625\" y1=\"5.0\" y2=\"15.0\" stroke=\"black\" stroke-width=\"3\" /><line x1=\"701.621640625\" x2=\"701.621640625\" y1=\"5.0\" y2=\"15.0\" stroke=\"black\" stroke-width=\"3\" /><line x1=\"611.621640625\" x2=\"611.621640625\" y1=\"175.0\" y2=\"185.0\" stroke=\"black\" stroke-width=\"3\" /><line x1=\"701.621640625\" x2=\"701.621640625\" y1=\"175.0\" y2=\"185.0\" stroke=\"black\" stroke-width=\"3\" /><rect x=\"10.0\" y=\"25.0\" width=\"44.49359375\" height=\"40\" stroke=\"black\" fill=\"white\" stroke-width=\"0\" /><text x=\"32.246796875\" y=\"45.0\" dominant-baseline=\"middle\" text-anchor=\"middle\" font-size=\"14px\">(0, 0): </text><rect x=\"10.0\" y=\"75.0\" width=\"44.49359375\" height=\"40\" stroke=\"black\" fill=\"white\" stroke-width=\"0\" /><text x=\"32.246796875\" y=\"95.0\" dominant-baseline=\"middle\" text-anchor=\"middle\" font-size=\"14px\">(0, 1): </text><rect x=\"10.0\" y=\"125.0\" width=\"44.49359375\" height=\"40\" stroke=\"black\" fill=\"white\" stroke-width=\"0\" /><text x=\"32.246796875\" y=\"145.0\" dominant-baseline=\"middle\" text-anchor=\"middle\" font-size=\"14px\">(0, 2): </text><rect x=\"74.49359375\" y=\"75.0\" width=\"40\" height=\"40\" stroke=\"black\" fill=\"white\" stroke-width=\"1\" /><text x=\"94.49359375\" y=\"95.0\" dominant-baseline=\"middle\" text-anchor=\"middle\" font-size=\"18px\">H</text><circle cx=\"154.49359375\" cy=\"95.0\" r=\"10.0\" /><rect x=\"134.49359375\" y=\"125.0\" width=\"40\" height=\"40\" stroke=\"black\" fill=\"white\" stroke-width=\"1\" /><text x=\"154.49359375\" y=\"145.0\" dominant-baseline=\"middle\" text-anchor=\"middle\" font-size=\"18px\">X</text><circle cx=\"214.49359375\" cy=\"45.0\" r=\"10.0\" /><rect x=\"194.49359375\" y=\"75.0\" width=\"40\" height=\"40\" stroke=\"black\" fill=\"white\" stroke-width=\"1\" /><text x=\"214.49359375\" y=\"95.0\" dominant-baseline=\"middle\" text-anchor=\"middle\" font-size=\"18px\">X</text><rect x=\"254.49359375\" y=\"25.0\" width=\"63.9494921875\" height=\"40\" stroke=\"black\" fill=\"white\" stroke-width=\"1\" /><text x=\"286.46833984375\" y=\"45.0\" dominant-baseline=\"middle\" text-anchor=\"middle\" font-size=\"18px\">H</text><rect x=\"254.49359375\" y=\"75.0\" width=\"63.9494921875\" height=\"40\" stroke=\"black\" fill=\"white\" stroke-width=\"1\" /><text x=\"286.46833984375\" y=\"95.0\" dominant-baseline=\"middle\" text-anchor=\"middle\" font-size=\"14px\">Rx(0.5π)</text><rect x=\"338.4430859375\" y=\"75.0\" width=\"63.9494921875\" height=\"40\" stroke=\"black\" fill=\"white\" stroke-width=\"1\" /><text x=\"370.41783203125\" y=\"95.0\" dominant-baseline=\"middle\" text-anchor=\"middle\" font-size=\"14px\">Rz(0.5π)</text><rect x=\"422.392578125\" y=\"75.0\" width=\"49.61453125\" height=\"40\" stroke=\"black\" fill=\"white\" stroke-width=\"1\" /><text x=\"447.19984375\" y=\"95.0\" dominant-baseline=\"middle\" text-anchor=\"middle\" font-size=\"14px\">Rx(v0)</text><rect x=\"492.007109375\" y=\"75.0\" width=\"49.61453125\" height=\"40\" stroke=\"black\" fill=\"white\" stroke-width=\"1\" /><text x=\"516.814375\" y=\"95.0\" dominant-baseline=\"middle\" text-anchor=\"middle\" font-size=\"14px\">Rz(v1)</text><circle cx=\"581.621640625\" cy=\"95.0\" r=\"10.0\" /><rect x=\"561.621640625\" y=\"125.0\" width=\"40\" height=\"40\" stroke=\"black\" fill=\"white\" stroke-width=\"1\" /><text x=\"581.621640625\" y=\"145.0\" dominant-baseline=\"middle\" text-anchor=\"middle\" font-size=\"18px\">X</text><circle cx=\"631.621640625\" cy=\"45.0\" r=\"10.0\" /><circle cx=\"631.621640625\" cy=\"145.0\" r=\"10.0\" /><rect x=\"651.621640625\" y=\"75.0\" width=\"40\" height=\"40\" stroke=\"black\" fill=\"white\" stroke-width=\"1\" /><text x=\"671.621640625\" y=\"95.0\" dominant-baseline=\"middle\" text-anchor=\"middle\" font-size=\"18px\">M</text><rect x=\"721.621640625\" y=\"25.0\" width=\"40\" height=\"40\" stroke=\"black\" fill=\"white\" stroke-width=\"1\" /><text x=\"741.621640625\" y=\"45.0\" dominant-baseline=\"middle\" text-anchor=\"middle\" font-size=\"18px\">M</text><rect x=\"721.621640625\" y=\"125.0\" width=\"40\" height=\"40\" stroke=\"black\" fill=\"white\" stroke-width=\"1\" /><text x=\"741.621640625\" y=\"145.0\" dominant-baseline=\"middle\" text-anchor=\"middle\" font-size=\"18px\">M</text></svg>"
      ],
      "text/plain": [
       "<cirq.contrib.svg.svg.SVGCircuit at 0x29eb9e3a4c8>"
      ]
     },
     "execution_count": 12,
     "metadata": {},
     "output_type": "execute_result"
    }
   ],
   "source": [
    "ctr_params = sp.symbols('v0 , v1')\n",
    "print(ctr_params)\n",
    "c = prodTelepRyC(0.5* np.pi,0.5 * np.pi,0,ctr_params)\n",
    "SVGCircuit(c[0])"
   ]
  },
  {
   "cell_type": "code",
   "execution_count": 13,
   "id": "42080747",
   "metadata": {},
   "outputs": [
    {
     "data": {
      "image/svg+xml": [
       "<svg xmlns=\"http://www.w3.org/2000/svg\" width=\"512.392578125\" height=\"150.0\"><line x1=\"32.246796875\" x2=\"482.392578125\" y1=\"25.0\" y2=\"25.0\" stroke=\"#1967d2\" stroke-width=\"1\" /><line x1=\"32.246796875\" x2=\"482.392578125\" y1=\"75.0\" y2=\"75.0\" stroke=\"#1967d2\" stroke-width=\"1\" /><line x1=\"32.246796875\" x2=\"482.392578125\" y1=\"125.0\" y2=\"125.0\" stroke=\"#1967d2\" stroke-width=\"1\" /><line x1=\"154.49359375\" x2=\"154.49359375\" y1=\"75.0\" y2=\"125.0\" stroke=\"black\" stroke-width=\"3\" /><line x1=\"214.49359375\" x2=\"214.49359375\" y1=\"25.0\" y2=\"75.0\" stroke=\"black\" stroke-width=\"3\" /><rect x=\"10.0\" y=\"5.0\" width=\"44.49359375\" height=\"40\" stroke=\"black\" fill=\"white\" stroke-width=\"0\" /><text x=\"32.246796875\" y=\"25.0\" dominant-baseline=\"middle\" text-anchor=\"middle\" font-size=\"14px\">(0, 0): </text><rect x=\"10.0\" y=\"55.0\" width=\"44.49359375\" height=\"40\" stroke=\"black\" fill=\"white\" stroke-width=\"0\" /><text x=\"32.246796875\" y=\"75.0\" dominant-baseline=\"middle\" text-anchor=\"middle\" font-size=\"14px\">(0, 1): </text><rect x=\"10.0\" y=\"105.0\" width=\"44.49359375\" height=\"40\" stroke=\"black\" fill=\"white\" stroke-width=\"0\" /><text x=\"32.246796875\" y=\"125.0\" dominant-baseline=\"middle\" text-anchor=\"middle\" font-size=\"14px\">(0, 2): </text><rect x=\"74.49359375\" y=\"55.0\" width=\"40\" height=\"40\" stroke=\"black\" fill=\"white\" stroke-width=\"1\" /><text x=\"94.49359375\" y=\"75.0\" dominant-baseline=\"middle\" text-anchor=\"middle\" font-size=\"18px\">H</text><circle cx=\"154.49359375\" cy=\"75.0\" r=\"10.0\" /><rect x=\"134.49359375\" y=\"105.0\" width=\"40\" height=\"40\" stroke=\"black\" fill=\"white\" stroke-width=\"1\" /><text x=\"154.49359375\" y=\"125.0\" dominant-baseline=\"middle\" text-anchor=\"middle\" font-size=\"18px\">X</text><circle cx=\"214.49359375\" cy=\"25.0\" r=\"10.0\" /><rect x=\"194.49359375\" y=\"55.0\" width=\"40\" height=\"40\" stroke=\"black\" fill=\"white\" stroke-width=\"1\" /><text x=\"214.49359375\" y=\"75.0\" dominant-baseline=\"middle\" text-anchor=\"middle\" font-size=\"18px\">X</text><rect x=\"254.49359375\" y=\"5.0\" width=\"40\" height=\"40\" stroke=\"black\" fill=\"white\" stroke-width=\"1\" /><text x=\"274.49359375\" y=\"25.0\" dominant-baseline=\"middle\" text-anchor=\"middle\" font-size=\"18px\">H</text><rect x=\"314.49359375\" y=\"55.0\" width=\"63.9494921875\" height=\"40\" stroke=\"black\" fill=\"white\" stroke-width=\"1\" /><text x=\"346.46833984375\" y=\"75.0\" dominant-baseline=\"middle\" text-anchor=\"middle\" font-size=\"14px\">Rx(0.5π)</text><rect x=\"398.4430859375\" y=\"55.0\" width=\"63.9494921875\" height=\"40\" stroke=\"black\" fill=\"white\" stroke-width=\"1\" /><text x=\"430.41783203125\" y=\"75.0\" dominant-baseline=\"middle\" text-anchor=\"middle\" font-size=\"14px\">Rz(0.5π)</text></svg>"
      ],
      "text/plain": [
       "<cirq.contrib.svg.svg.SVGCircuit at 0x29eb9e40b48>"
      ]
     },
     "execution_count": 13,
     "metadata": {},
     "output_type": "execute_result"
    }
   ],
   "source": [
    "SVGCircuit(c[2][0])"
   ]
  },
  {
   "cell_type": "code",
   "execution_count": 14,
   "id": "057a4123",
   "metadata": {},
   "outputs": [
    {
     "data": {
      "image/svg+xml": [
       "<svg xmlns=\"http://www.w3.org/2000/svg\" width=\"423.72265625\" height=\"150.0\"><line x1=\"32.246796875\" x2=\"393.72265625\" y1=\"25.0\" y2=\"25.0\" stroke=\"#1967d2\" stroke-width=\"1\" /><line x1=\"32.246796875\" x2=\"393.72265625\" y1=\"75.0\" y2=\"75.0\" stroke=\"#1967d2\" stroke-width=\"1\" /><line x1=\"32.246796875\" x2=\"393.72265625\" y1=\"125.0\" y2=\"125.0\" stroke=\"#1967d2\" stroke-width=\"1\" /><line x1=\"233.72265625\" x2=\"233.72265625\" y1=\"75.0\" y2=\"125.0\" stroke=\"black\" stroke-width=\"3\" /><line x1=\"293.72265625\" x2=\"293.72265625\" y1=\"25.0\" y2=\"125.0\" stroke=\"black\" stroke-width=\"3\" /><rect x=\"10.0\" y=\"5.0\" width=\"44.49359375\" height=\"40\" stroke=\"black\" fill=\"white\" stroke-width=\"0\" /><text x=\"32.246796875\" y=\"25.0\" dominant-baseline=\"middle\" text-anchor=\"middle\" font-size=\"14px\">(0, 0): </text><rect x=\"10.0\" y=\"55.0\" width=\"44.49359375\" height=\"40\" stroke=\"black\" fill=\"white\" stroke-width=\"0\" /><text x=\"32.246796875\" y=\"75.0\" dominant-baseline=\"middle\" text-anchor=\"middle\" font-size=\"14px\">(0, 1): </text><rect x=\"10.0\" y=\"105.0\" width=\"44.49359375\" height=\"40\" stroke=\"black\" fill=\"white\" stroke-width=\"0\" /><text x=\"32.246796875\" y=\"125.0\" dominant-baseline=\"middle\" text-anchor=\"middle\" font-size=\"14px\">(0, 2): </text><rect x=\"74.49359375\" y=\"55.0\" width=\"49.61453125\" height=\"40\" stroke=\"black\" fill=\"white\" stroke-width=\"1\" /><text x=\"99.300859375\" y=\"75.0\" dominant-baseline=\"middle\" text-anchor=\"middle\" font-size=\"14px\">Rx(v0)</text><rect x=\"144.10812499999997\" y=\"55.0\" width=\"49.61453125\" height=\"40\" stroke=\"black\" fill=\"white\" stroke-width=\"1\" /><text x=\"168.915390625\" y=\"75.0\" dominant-baseline=\"middle\" text-anchor=\"middle\" font-size=\"14px\">Rz(v1)</text><circle cx=\"233.72265625\" cy=\"75.0\" r=\"10.0\" /><rect x=\"213.72265625\" y=\"105.0\" width=\"40\" height=\"40\" stroke=\"black\" fill=\"white\" stroke-width=\"1\" /><text x=\"233.72265625\" y=\"125.0\" dominant-baseline=\"middle\" text-anchor=\"middle\" font-size=\"18px\">X</text><circle cx=\"293.72265625\" cy=\"25.0\" r=\"10.0\" /><circle cx=\"293.72265625\" cy=\"125.0\" r=\"10.0\" /><rect x=\"333.72265625\" y=\"5.0\" width=\"40\" height=\"40\" stroke=\"black\" fill=\"white\" stroke-width=\"1\" /><text x=\"353.72265625\" y=\"25.0\" dominant-baseline=\"middle\" text-anchor=\"middle\" font-size=\"18px\">M</text><rect x=\"333.72265625\" y=\"55.0\" width=\"40\" height=\"40\" stroke=\"black\" fill=\"white\" stroke-width=\"1\" /><text x=\"353.72265625\" y=\"75.0\" dominant-baseline=\"middle\" text-anchor=\"middle\" font-size=\"18px\">M</text><rect x=\"333.72265625\" y=\"105.0\" width=\"40\" height=\"40\" stroke=\"black\" fill=\"white\" stroke-width=\"1\" /><text x=\"353.72265625\" y=\"125.0\" dominant-baseline=\"middle\" text-anchor=\"middle\" font-size=\"18px\">M</text></svg>"
      ],
      "text/plain": [
       "<cirq.contrib.svg.svg.SVGCircuit at 0x29eb9e3a2c8>"
      ]
     },
     "execution_count": 14,
     "metadata": {},
     "output_type": "execute_result"
    }
   ],
   "source": [
    "SVGCircuit(c[2][1])"
   ]
  },
  {
   "cell_type": "code",
   "execution_count": 15,
   "id": "75f5e6a5",
   "metadata": {},
   "outputs": [],
   "source": [
    "def prodCodifDensaRyC(gradoX, gradoZ, params,b1,b0):\n",
    "    #construir la primera parte del circuito\n",
    "    \n",
    "    q0, q1 = cq.GridQubit.rect(1,2)\n",
    "    \n",
    "    ent1 = cq.Moment(cq.H(q0))\n",
    "    ent2 = cq.Moment([cq.CNOT(q0,q1)])\n",
    "    \n",
    "    circuitBase = cq.Circuit((ent1,ent2))\n",
    "    \n",
    "    # añadirle la parte que realiza la codificacion superdensa\n",
    "    l = []\n",
    "    if (b1 == 0 and b0 == 1):\n",
    "        circuitBase.append(cq.X(q0))\n",
    "        l.append(cq.Moment([cq.X(q0)]))\n",
    "    elif (b1 == 1 and b0 == 0):\n",
    "        circuitBase.append(cq.Z(q0))\n",
    "        l.append(cq.Moment([cq.Z(q0)]))\n",
    "    elif (b1 == 1 and b0 == 1):\n",
    "        circuitBase.append(cq.X(q0))\n",
    "        circuitBase.append(cq.Z(q0))\n",
    "        l.append(cq.Moment([cq.X(q0)]))\n",
    "        l.append(cq.Moment([cq.Z(q0)]))\n",
    "        \n",
    "    # se inserta el ruido\n",
    "    \n",
    "    circuitBase.append(cq.rx(gradoX).on(q0))\n",
    "   \n",
    "    circuitBase.append(cq.rz(gradoZ).on(q0))\n",
    "    \n",
    "    # ----- FIN DEL CIRCUITO DE ENTRADA ----- #\n",
    "    \n",
    "    # se insertan los parámetros para la corrección \n",
    "    \n",
    "    circuitBase.append(cq.rx(params[0]).on(q0))\n",
    "    \n",
    "    circuitBase.append(cq.rz(params[1]).on(q0))\n",
    "    \n",
    "    # Añadir la decodificacion y la medida\n",
    "    \n",
    "    circuitBase.append(cq.CNOT(q0,q1))\n",
    "\n",
    "    circuitBase.append(cq.H(q0))\n",
    "    \n",
    "    circuitBase.append([cq.measure(q0),cq.measure(q1)])\n",
    "\n",
    "    \n",
    "    \n",
    "    me1 = cq.Moment([cq.rx(gradoX).on(q0)])\n",
    "    me2 = cq.Moment([cq.rz(gradoZ).on(q0)])\n",
    "    l2 = [ent1,ent2]\n",
    "    for i in range(len(l)):\n",
    "        l2.append(l[i])\n",
    "    l2.append(me1)\n",
    "    l2.append(me2)\n",
    "    \n",
    "    circuitoEntrada = cq.Circuit(l2)\n",
    "    \n",
    "    mc1 = cq.Moment([cq.rx(params[0]).on(q0)])\n",
    "    mc2 = cq.Moment([cq.rz(params[1]).on(q0)])\n",
    "    mc3 = cq.Moment([cq.CNOT(q0,q1)])\n",
    "    mc4 = cq.Moment([cq.H(q0)])\n",
    "    mc5 = cq.Moment([cq.measure(q0),cq.measure(q1)])\n",
    "    circuitoControlado = cq.Circuit([mc1,mc2,mc3,mc4,mc5])\n",
    "    \n",
    "    return circuitBase, [q0,q1], [circuitoEntrada, circuitoControlado]"
   ]
  },
  {
   "cell_type": "code",
   "execution_count": 16,
   "id": "57bd73ac",
   "metadata": {},
   "outputs": [
    {
     "name": "stdout",
     "output_type": "stream",
     "text": [
      "(v0, v1)\n"
     ]
    },
    {
     "data": {
      "image/svg+xml": [
       "<svg xmlns=\"http://www.w3.org/2000/svg\" width=\"862.766171875\" height=\"100.0\"><line x1=\"32.246796875\" x2=\"832.766171875\" y1=\"25.0\" y2=\"25.0\" stroke=\"#1967d2\" stroke-width=\"1\" /><line x1=\"32.246796875\" x2=\"832.766171875\" y1=\"75.0\" y2=\"75.0\" stroke=\"#1967d2\" stroke-width=\"1\" /><line x1=\"154.49359375\" x2=\"154.49359375\" y1=\"25.0\" y2=\"75.0\" stroke=\"black\" stroke-width=\"3\" /><line x1=\"672.766171875\" x2=\"672.766171875\" y1=\"25.0\" y2=\"75.0\" stroke=\"black\" stroke-width=\"3\" /><rect x=\"10.0\" y=\"5.0\" width=\"44.49359375\" height=\"40\" stroke=\"black\" fill=\"white\" stroke-width=\"0\" /><text x=\"32.246796875\" y=\"25.0\" dominant-baseline=\"middle\" text-anchor=\"middle\" font-size=\"14px\">(0, 0): </text><rect x=\"10.0\" y=\"55.0\" width=\"44.49359375\" height=\"40\" stroke=\"black\" fill=\"white\" stroke-width=\"0\" /><text x=\"32.246796875\" y=\"75.0\" dominant-baseline=\"middle\" text-anchor=\"middle\" font-size=\"14px\">(0, 1): </text><rect x=\"74.49359375\" y=\"5.0\" width=\"40\" height=\"40\" stroke=\"black\" fill=\"white\" stroke-width=\"1\" /><text x=\"94.49359375\" y=\"25.0\" dominant-baseline=\"middle\" text-anchor=\"middle\" font-size=\"18px\">H</text><circle cx=\"154.49359375\" cy=\"25.0\" r=\"10.0\" /><rect x=\"134.49359375\" y=\"55.0\" width=\"40\" height=\"40\" stroke=\"black\" fill=\"white\" stroke-width=\"1\" /><text x=\"154.49359375\" y=\"75.0\" dominant-baseline=\"middle\" text-anchor=\"middle\" font-size=\"18px\">X</text><rect x=\"194.49359375\" y=\"5.0\" width=\"40\" height=\"40\" stroke=\"black\" fill=\"white\" stroke-width=\"1\" /><text x=\"214.49359375\" y=\"25.0\" dominant-baseline=\"middle\" text-anchor=\"middle\" font-size=\"18px\">X</text><rect x=\"254.49359375\" y=\"5.0\" width=\"40\" height=\"40\" stroke=\"black\" fill=\"white\" stroke-width=\"1\" /><text x=\"274.49359375\" y=\"25.0\" dominant-baseline=\"middle\" text-anchor=\"middle\" font-size=\"18px\">Z</text><rect x=\"314.49359375\" y=\"5.0\" width=\"79.5217578125\" height=\"40\" stroke=\"black\" fill=\"white\" stroke-width=\"1\" /><text x=\"354.25447265625\" y=\"25.0\" dominant-baseline=\"middle\" text-anchor=\"middle\" font-size=\"14px\">Rx(0.032π)</text><rect x=\"414.0153515625\" y=\"5.0\" width=\"79.5217578125\" height=\"40\" stroke=\"black\" fill=\"white\" stroke-width=\"1\" /><text x=\"453.77623046875\" y=\"25.0\" dominant-baseline=\"middle\" text-anchor=\"middle\" font-size=\"14px\">Rz(0.032π)</text><rect x=\"513.537109375\" y=\"5.0\" width=\"49.61453125\" height=\"40\" stroke=\"black\" fill=\"white\" stroke-width=\"1\" /><text x=\"538.344375\" y=\"25.0\" dominant-baseline=\"middle\" text-anchor=\"middle\" font-size=\"14px\">Rx(v0)</text><rect x=\"583.151640625\" y=\"5.0\" width=\"49.61453125\" height=\"40\" stroke=\"black\" fill=\"white\" stroke-width=\"1\" /><text x=\"607.95890625\" y=\"25.0\" dominant-baseline=\"middle\" text-anchor=\"middle\" font-size=\"14px\">Rz(v1)</text><circle cx=\"672.766171875\" cy=\"25.0\" r=\"10.0\" /><rect x=\"652.766171875\" y=\"55.0\" width=\"40\" height=\"40\" stroke=\"black\" fill=\"white\" stroke-width=\"1\" /><text x=\"672.766171875\" y=\"75.0\" dominant-baseline=\"middle\" text-anchor=\"middle\" font-size=\"18px\">X</text><rect x=\"712.766171875\" y=\"5.0\" width=\"40\" height=\"40\" stroke=\"black\" fill=\"white\" stroke-width=\"1\" /><text x=\"732.766171875\" y=\"25.0\" dominant-baseline=\"middle\" text-anchor=\"middle\" font-size=\"18px\">H</text><rect x=\"712.766171875\" y=\"55.0\" width=\"40\" height=\"40\" stroke=\"black\" fill=\"white\" stroke-width=\"1\" /><text x=\"732.766171875\" y=\"75.0\" dominant-baseline=\"middle\" text-anchor=\"middle\" font-size=\"18px\">M</text><rect x=\"772.766171875\" y=\"5.0\" width=\"40\" height=\"40\" stroke=\"black\" fill=\"white\" stroke-width=\"1\" /><text x=\"792.766171875\" y=\"25.0\" dominant-baseline=\"middle\" text-anchor=\"middle\" font-size=\"18px\">M</text></svg>"
      ],
      "text/plain": [
       "<cirq.contrib.svg.svg.SVGCircuit at 0x29eb9e389c8>"
      ]
     },
     "execution_count": 16,
     "metadata": {},
     "output_type": "execute_result"
    }
   ],
   "source": [
    "ctr_params = sp.symbols('v0 , v1')\n",
    "print(ctr_params)\n",
    "c = prodCodifDensaRyC(0.1,0.1,ctr_params,1,1)\n",
    "SVGCircuit(c[0])\n"
   ]
  },
  {
   "cell_type": "code",
   "execution_count": 17,
   "id": "c6605bfe",
   "metadata": {},
   "outputs": [
    {
     "data": {
      "image/svg+xml": [
       "<svg xmlns=\"http://www.w3.org/2000/svg\" width=\"543.537109375\" height=\"100.0\"><line x1=\"32.246796875\" x2=\"513.537109375\" y1=\"25.0\" y2=\"25.0\" stroke=\"#1967d2\" stroke-width=\"1\" /><line x1=\"32.246796875\" x2=\"513.537109375\" y1=\"75.0\" y2=\"75.0\" stroke=\"#1967d2\" stroke-width=\"1\" /><line x1=\"154.49359375\" x2=\"154.49359375\" y1=\"25.0\" y2=\"75.0\" stroke=\"black\" stroke-width=\"3\" /><rect x=\"10.0\" y=\"5.0\" width=\"44.49359375\" height=\"40\" stroke=\"black\" fill=\"white\" stroke-width=\"0\" /><text x=\"32.246796875\" y=\"25.0\" dominant-baseline=\"middle\" text-anchor=\"middle\" font-size=\"14px\">(0, 0): </text><rect x=\"10.0\" y=\"55.0\" width=\"44.49359375\" height=\"40\" stroke=\"black\" fill=\"white\" stroke-width=\"0\" /><text x=\"32.246796875\" y=\"75.0\" dominant-baseline=\"middle\" text-anchor=\"middle\" font-size=\"14px\">(0, 1): </text><rect x=\"74.49359375\" y=\"5.0\" width=\"40\" height=\"40\" stroke=\"black\" fill=\"white\" stroke-width=\"1\" /><text x=\"94.49359375\" y=\"25.0\" dominant-baseline=\"middle\" text-anchor=\"middle\" font-size=\"18px\">H</text><circle cx=\"154.49359375\" cy=\"25.0\" r=\"10.0\" /><rect x=\"134.49359375\" y=\"55.0\" width=\"40\" height=\"40\" stroke=\"black\" fill=\"white\" stroke-width=\"1\" /><text x=\"154.49359375\" y=\"75.0\" dominant-baseline=\"middle\" text-anchor=\"middle\" font-size=\"18px\">X</text><rect x=\"194.49359375\" y=\"5.0\" width=\"40\" height=\"40\" stroke=\"black\" fill=\"white\" stroke-width=\"1\" /><text x=\"214.49359375\" y=\"25.0\" dominant-baseline=\"middle\" text-anchor=\"middle\" font-size=\"18px\">X</text><rect x=\"254.49359375\" y=\"5.0\" width=\"40\" height=\"40\" stroke=\"black\" fill=\"white\" stroke-width=\"1\" /><text x=\"274.49359375\" y=\"25.0\" dominant-baseline=\"middle\" text-anchor=\"middle\" font-size=\"18px\">Z</text><rect x=\"314.49359375\" y=\"5.0\" width=\"79.5217578125\" height=\"40\" stroke=\"black\" fill=\"white\" stroke-width=\"1\" /><text x=\"354.25447265625\" y=\"25.0\" dominant-baseline=\"middle\" text-anchor=\"middle\" font-size=\"14px\">Rx(0.032π)</text><rect x=\"414.0153515625\" y=\"5.0\" width=\"79.5217578125\" height=\"40\" stroke=\"black\" fill=\"white\" stroke-width=\"1\" /><text x=\"453.77623046875\" y=\"25.0\" dominant-baseline=\"middle\" text-anchor=\"middle\" font-size=\"14px\">Rz(0.032π)</text></svg>"
      ],
      "text/plain": [
       "<cirq.contrib.svg.svg.SVGCircuit at 0x29eb9e38a48>"
      ]
     },
     "execution_count": 17,
     "metadata": {},
     "output_type": "execute_result"
    }
   ],
   "source": [
    "SVGCircuit(c[2][0])"
   ]
  },
  {
   "cell_type": "code",
   "execution_count": 18,
   "id": "440c886e",
   "metadata": {},
   "outputs": [
    {
     "data": {
      "image/svg+xml": [
       "<svg xmlns=\"http://www.w3.org/2000/svg\" width=\"423.72265625\" height=\"100.0\"><line x1=\"32.246796875\" x2=\"393.72265625\" y1=\"25.0\" y2=\"25.0\" stroke=\"#1967d2\" stroke-width=\"1\" /><line x1=\"32.246796875\" x2=\"393.72265625\" y1=\"75.0\" y2=\"75.0\" stroke=\"#1967d2\" stroke-width=\"1\" /><line x1=\"233.72265625\" x2=\"233.72265625\" y1=\"25.0\" y2=\"75.0\" stroke=\"black\" stroke-width=\"3\" /><rect x=\"10.0\" y=\"5.0\" width=\"44.49359375\" height=\"40\" stroke=\"black\" fill=\"white\" stroke-width=\"0\" /><text x=\"32.246796875\" y=\"25.0\" dominant-baseline=\"middle\" text-anchor=\"middle\" font-size=\"14px\">(0, 0): </text><rect x=\"10.0\" y=\"55.0\" width=\"44.49359375\" height=\"40\" stroke=\"black\" fill=\"white\" stroke-width=\"0\" /><text x=\"32.246796875\" y=\"75.0\" dominant-baseline=\"middle\" text-anchor=\"middle\" font-size=\"14px\">(0, 1): </text><rect x=\"74.49359375\" y=\"5.0\" width=\"49.61453125\" height=\"40\" stroke=\"black\" fill=\"white\" stroke-width=\"1\" /><text x=\"99.300859375\" y=\"25.0\" dominant-baseline=\"middle\" text-anchor=\"middle\" font-size=\"14px\">Rx(v0)</text><rect x=\"144.10812499999997\" y=\"5.0\" width=\"49.61453125\" height=\"40\" stroke=\"black\" fill=\"white\" stroke-width=\"1\" /><text x=\"168.915390625\" y=\"25.0\" dominant-baseline=\"middle\" text-anchor=\"middle\" font-size=\"14px\">Rz(v1)</text><circle cx=\"233.72265625\" cy=\"25.0\" r=\"10.0\" /><rect x=\"213.72265625\" y=\"55.0\" width=\"40\" height=\"40\" stroke=\"black\" fill=\"white\" stroke-width=\"1\" /><text x=\"233.72265625\" y=\"75.0\" dominant-baseline=\"middle\" text-anchor=\"middle\" font-size=\"18px\">X</text><rect x=\"273.72265625\" y=\"5.0\" width=\"40\" height=\"40\" stroke=\"black\" fill=\"white\" stroke-width=\"1\" /><text x=\"293.72265625\" y=\"25.0\" dominant-baseline=\"middle\" text-anchor=\"middle\" font-size=\"18px\">H</text><rect x=\"333.72265625\" y=\"5.0\" width=\"40\" height=\"40\" stroke=\"black\" fill=\"white\" stroke-width=\"1\" /><text x=\"353.72265625\" y=\"25.0\" dominant-baseline=\"middle\" text-anchor=\"middle\" font-size=\"18px\">M</text><rect x=\"333.72265625\" y=\"55.0\" width=\"40\" height=\"40\" stroke=\"black\" fill=\"white\" stroke-width=\"1\" /><text x=\"353.72265625\" y=\"75.0\" dominant-baseline=\"middle\" text-anchor=\"middle\" font-size=\"18px\">M</text></svg>"
      ],
      "text/plain": [
       "<cirq.contrib.svg.svg.SVGCircuit at 0x29eb9e49c48>"
      ]
     },
     "execution_count": 18,
     "metadata": {},
     "output_type": "execute_result"
    }
   ],
   "source": [
    "SVGCircuit(c[2][1])"
   ]
  },
  {
   "cell_type": "code",
   "execution_count": 19,
   "id": "961a8f99",
   "metadata": {},
   "outputs": [],
   "source": [
    "def producirCodifDensaGuess(params):\n",
    "    q0, q1 = cq.GridQubit.rect(1,2)\n",
    "    \n",
    "    l = []\n",
    "    ent1 = cq.Moment(cq.H(q0))\n",
    "    ent2 = cq.Moment([cq.CNOT(q0,q1)])\n",
    "    \n",
    "    circuitBase = cq.Circuit((ent1,ent2))\n",
    "    \n",
    "    l.append(ent1)\n",
    "    l.append(ent2)\n",
    "    \n",
    "    \n",
    "    #----- Fin del circuito de entrada  -----#\n",
    "    \n",
    "    l2 = []\n",
    "    \n",
    "    # añadirle la parte que realiza la codificacion superdensa controlada\n",
    "    #    por redes neuronales\n",
    "    \n",
    "    circuitBase.append(cq.rx(params[0]).on(q0))\n",
    "    circuitBase.append(cq.rz(params[1]).on(q0))\n",
    "    \n",
    "    l2.append(cq.Moment([cq.rx(params[0]).on(q0)]))\n",
    "    l2.append(cq.Moment([cq.rz(params[1]).on(q0)]))\n",
    "        \n",
    "    \n",
    "    # Añadir la decodificacion y la medida\n",
    "    \n",
    "    circuitBase.append(cq.CNOT(q0,q1))\n",
    "    l2.append(cq.Moment([cq.CNOT(q0,q1)]))\n",
    "    \n",
    "    circuitBase.append(cq.H(q0))\n",
    "    l2.append(cq.Moment([cq.H(q0)]))\n",
    "    \n",
    "    circuitBase.append([cq.measure(q0),cq.measure(q1)])\n",
    "    l2.append([cq.measure(q0),cq.measure(q1)])\n",
    "    \n",
    "    \n",
    "    circuitoEntrada = cq.Circuit(l)\n",
    "    circuitoControlado = cq.Circuit(l2)\n",
    "    \n",
    "    \n",
    "    return circuitBase, [q0,q1], [circuitoEntrada, circuitoControlado]"
   ]
  },
  {
   "cell_type": "code",
   "execution_count": 20,
   "id": "a63b0e0c",
   "metadata": {},
   "outputs": [
    {
     "data": {
      "image/svg+xml": [
       "<svg xmlns=\"http://www.w3.org/2000/svg\" width=\"543.72265625\" height=\"100.0\"><line x1=\"32.246796875\" x2=\"513.72265625\" y1=\"25.0\" y2=\"25.0\" stroke=\"#1967d2\" stroke-width=\"1\" /><line x1=\"32.246796875\" x2=\"513.72265625\" y1=\"75.0\" y2=\"75.0\" stroke=\"#1967d2\" stroke-width=\"1\" /><line x1=\"154.49359375\" x2=\"154.49359375\" y1=\"25.0\" y2=\"75.0\" stroke=\"black\" stroke-width=\"3\" /><line x1=\"353.72265625\" x2=\"353.72265625\" y1=\"25.0\" y2=\"75.0\" stroke=\"black\" stroke-width=\"3\" /><rect x=\"10.0\" y=\"5.0\" width=\"44.49359375\" height=\"40\" stroke=\"black\" fill=\"white\" stroke-width=\"0\" /><text x=\"32.246796875\" y=\"25.0\" dominant-baseline=\"middle\" text-anchor=\"middle\" font-size=\"14px\">(0, 0): </text><rect x=\"10.0\" y=\"55.0\" width=\"44.49359375\" height=\"40\" stroke=\"black\" fill=\"white\" stroke-width=\"0\" /><text x=\"32.246796875\" y=\"75.0\" dominant-baseline=\"middle\" text-anchor=\"middle\" font-size=\"14px\">(0, 1): </text><rect x=\"74.49359375\" y=\"5.0\" width=\"40\" height=\"40\" stroke=\"black\" fill=\"white\" stroke-width=\"1\" /><text x=\"94.49359375\" y=\"25.0\" dominant-baseline=\"middle\" text-anchor=\"middle\" font-size=\"18px\">H</text><circle cx=\"154.49359375\" cy=\"25.0\" r=\"10.0\" /><rect x=\"134.49359375\" y=\"55.0\" width=\"40\" height=\"40\" stroke=\"black\" fill=\"white\" stroke-width=\"1\" /><text x=\"154.49359375\" y=\"75.0\" dominant-baseline=\"middle\" text-anchor=\"middle\" font-size=\"18px\">X</text><rect x=\"194.49359375\" y=\"5.0\" width=\"49.61453125\" height=\"40\" stroke=\"black\" fill=\"white\" stroke-width=\"1\" /><text x=\"219.30085937500002\" y=\"25.0\" dominant-baseline=\"middle\" text-anchor=\"middle\" font-size=\"14px\">Rx(v0)</text><rect x=\"264.108125\" y=\"5.0\" width=\"49.61453125\" height=\"40\" stroke=\"black\" fill=\"white\" stroke-width=\"1\" /><text x=\"288.915390625\" y=\"25.0\" dominant-baseline=\"middle\" text-anchor=\"middle\" font-size=\"14px\">Rz(v1)</text><circle cx=\"353.72265625\" cy=\"25.0\" r=\"10.0\" /><rect x=\"333.72265625\" y=\"55.0\" width=\"40\" height=\"40\" stroke=\"black\" fill=\"white\" stroke-width=\"1\" /><text x=\"353.72265625\" y=\"75.0\" dominant-baseline=\"middle\" text-anchor=\"middle\" font-size=\"18px\">X</text><rect x=\"393.72265625\" y=\"5.0\" width=\"40\" height=\"40\" stroke=\"black\" fill=\"white\" stroke-width=\"1\" /><text x=\"413.72265625\" y=\"25.0\" dominant-baseline=\"middle\" text-anchor=\"middle\" font-size=\"18px\">H</text><rect x=\"393.72265625\" y=\"55.0\" width=\"40\" height=\"40\" stroke=\"black\" fill=\"white\" stroke-width=\"1\" /><text x=\"413.72265625\" y=\"75.0\" dominant-baseline=\"middle\" text-anchor=\"middle\" font-size=\"18px\">M</text><rect x=\"453.72265625\" y=\"5.0\" width=\"40\" height=\"40\" stroke=\"black\" fill=\"white\" stroke-width=\"1\" /><text x=\"473.72265625\" y=\"25.0\" dominant-baseline=\"middle\" text-anchor=\"middle\" font-size=\"18px\">M</text></svg>"
      ],
      "text/plain": [
       "<cirq.contrib.svg.svg.SVGCircuit at 0x29eb9ee65c8>"
      ]
     },
     "execution_count": 20,
     "metadata": {},
     "output_type": "execute_result"
    }
   ],
   "source": [
    "ctr_params = sp.symbols('v0 , v1')\n",
    "cg = producirCodifDensaGuess(ctr_params)\n",
    "SVGCircuit(cg[0])"
   ]
  },
  {
   "cell_type": "markdown",
   "id": "430d3a2c",
   "metadata": {},
   "source": [
    "## Simulación con ruido y parámetros de corrección arbitrarios"
   ]
  },
  {
   "cell_type": "code",
   "execution_count": 21,
   "id": "151525a7",
   "metadata": {},
   "outputs": [
    {
     "data": {
      "text/plain": [
       "(array([ 9., 11., 17., 12., 15., 15.,  9., 12.]),\n",
       " array([0, 1, 2, 3, 4, 5, 6, 7, 8]),\n",
       " <BarContainer object of 8 artists>)"
      ]
     },
     "execution_count": 21,
     "metadata": {},
     "output_type": "execute_result"
    },
    {
     "data": {
      "image/png": "[encoded data removed]",
      "text/plain": [
       "<Figure size 432x288 with 1 Axes>"
      ]
     },
     "metadata": {
      "needs_background": "light"
     },
     "output_type": "display_data"
    }
   ],
   "source": [
    "sim = Simulator()\n",
    "ctr_params = sp.symbols('v0 , v1')\n",
    "resolver = cq.ParamResolver({ctr_params[0] : 0.5 , ctr_params[1] : 0.5})\n",
    "c2 = prodTelepRyC(0.5*np.pi, 0.5*np.pi, 1, ctr_params)[0]\n",
    "\n",
    "vec = np.zeros(100)\n",
    "\n",
    "for i in range(100):\n",
    "    res = sim.simulate(c2,resolver,initial_state = 0b000)\n",
    "\n",
    "    b2 = res.measurements['(0, 2)'][0]\n",
    "    b1 = res.measurements['(0, 1)'][0]\n",
    "    b0 = res.measurements['(0, 0)'][0]\n",
    "    num = b2 + 2*b1 + 4*b0\n",
    "    vec[i] +=  num\n",
    "\n",
    "plt.hist(vec, bins = [0,1,2,3,4,5,6,7,8], align = 'left', rwidth = 0.5)"
   ]
  },
  {
   "cell_type": "code",
   "execution_count": 22,
   "id": "bd3f3cda",
   "metadata": {},
   "outputs": [
    {
     "data": {
      "text/plain": [
       "(array([ 2., 11., 13., 74.]),\n",
       " array([0, 1, 2, 3, 4]),\n",
       " <BarContainer object of 4 artists>)"
      ]
     },
     "execution_count": 22,
     "metadata": {},
     "output_type": "execute_result"
    },
    {
     "data": {
      "image/png": "[encoded data removed]",
      "text/plain": [
       "<Figure size 432x288 with 1 Axes>"
      ]
     },
     "metadata": {
      "needs_background": "light"
     },
     "output_type": "display_data"
    }
   ],
   "source": [
    "sim = Simulator()\n",
    "ctr_params = sp.symbols('v0 , v1')\n",
    "resolver = cq.ParamResolver({ctr_params[0] : 0.5 , ctr_params[1] : 0.5})\n",
    "c1 = prodCodifDensaRyC(0.3, 0.3, ctr_params, 1, 1)[0]\n",
    "res = sim.simulate(c1, resolver, initial_state = 0b00)\n",
    "\n",
    "vec = np.zeros(100)\n",
    "\n",
    "for i in range(100):\n",
    "    res = sim.simulate(c1,resolver,initial_state = 0b00)\n",
    "    b1 = res.measurements['(0, 1)'][0]\n",
    "    b0 = res.measurements['(0, 0)'][0]\n",
    "    num = 2*b1 + b0\n",
    "    vec[i] +=  num\n",
    "\n",
    "plt.hist(vec,bins = [0,1,2,3,4], align = 'left', rwidth = 0.5)"
   ]
  },
  {
   "cell_type": "markdown",
   "id": "0abf4fbc",
   "metadata": {},
   "source": [
    "## Simulación Empleando TensorFlowQuantum"
   ]
  },
  {
   "cell_type": "code",
   "execution_count": 115,
   "id": "8c1f329a",
   "metadata": {},
   "outputs": [
    {
     "data": {
      "image/svg+xml": [
       "<svg xmlns=\"http://www.w3.org/2000/svg\" width=\"234.108125\" height=\"100.0\"><line x1=\"32.246796875\" x2=\"204.108125\" y1=\"25.0\" y2=\"25.0\" stroke=\"#1967d2\" stroke-width=\"1\" /><line x1=\"32.246796875\" x2=\"204.108125\" y1=\"75.0\" y2=\"75.0\" stroke=\"#1967d2\" stroke-width=\"1\" /><line x1=\"164.108125\" x2=\"164.108125\" y1=\"25.0\" y2=\"75.0\" stroke=\"black\" stroke-width=\"3\" /><rect x=\"10.0\" y=\"5.0\" width=\"44.49359375\" height=\"40\" stroke=\"black\" fill=\"white\" stroke-width=\"0\" /><text x=\"32.246796875\" y=\"25.0\" dominant-baseline=\"middle\" text-anchor=\"middle\" font-size=\"14px\">(0, 0): </text><rect x=\"10.0\" y=\"55.0\" width=\"44.49359375\" height=\"40\" stroke=\"black\" fill=\"white\" stroke-width=\"0\" /><text x=\"32.246796875\" y=\"75.0\" dominant-baseline=\"middle\" text-anchor=\"middle\" font-size=\"14px\">(0, 1): </text><rect x=\"74.49359375\" y=\"5.0\" width=\"49.61453125\" height=\"40\" stroke=\"black\" fill=\"white\" stroke-width=\"1\" /><text x=\"99.300859375\" y=\"25.0\" dominant-baseline=\"middle\" text-anchor=\"middle\" font-size=\"14px\">Rx(v0)</text><rect x=\"74.49359375\" y=\"55.0\" width=\"49.61453125\" height=\"40\" stroke=\"black\" fill=\"white\" stroke-width=\"1\" /><text x=\"99.300859375\" y=\"75.0\" dominant-baseline=\"middle\" text-anchor=\"middle\" font-size=\"14px\">Rx(v1)</text><rect x=\"144.108125\" y=\"5.0\" width=\"40\" height=\"40\" stroke=\"black\" fill=\"white\" stroke-width=\"1\" /><text x=\"164.108125\" y=\"25.0\" dominant-baseline=\"middle\" text-anchor=\"middle\" font-size=\"18px\">M</text><rect x=\"144.108125\" y=\"55.0\" width=\"40\" height=\"40\" stroke=\"black\" fill=\"white\" stroke-width=\"1\" /><text x=\"164.108125\" y=\"75.0\" dominant-baseline=\"middle\" text-anchor=\"middle\" font-size=\"18px\">M</text></svg>"
      ],
      "text/plain": [
       "<cirq.contrib.svg.svg.SVGCircuit at 0x29eba5408c8>"
      ]
     },
     "execution_count": 115,
     "metadata": {},
     "output_type": "execute_result"
    }
   ],
   "source": [
    "qubit1 = cq.GridQubit.rect(1,2)\n",
    "cparams = sp.symbols('v0 v1')\n",
    "mom1 = cq.Moment([cq.rx(cparams[0]).on(qubit1[0]), cq.rx(cparams[1]).on(qubit1[1])])\n",
    "mom2 = cq.measure(qubit1[0], qubit1[1])\n",
    "caux = cq.Circuit([mom1, mom2])\n",
    "SVGCircuit(caux)\n",
    "\n"
   ]
  },
  {
   "cell_type": "code",
   "execution_count": 139,
   "id": "77c80cfe",
   "metadata": {},
   "outputs": [
    {
     "name": "stdout",
     "output_type": "stream",
     "text": [
      "tf.Tensor(\n",
      "[[1.]\n",
      " [1.]\n",
      " [1.]\n",
      " [1.]\n",
      " [1.]\n",
      " [1.]\n",
      " [1.]\n",
      " [1.]\n",
      " [1.]\n",
      " [1.]], shape=(10, 1), dtype=float32)\n"
     ]
    }
   ],
   "source": [
    "valores1 = np.zeros((10,2))\n",
    "valores2 = np.array(np.random.uniform(0, 2*np.pi, (10,2)), dtype = np.float32)\n",
    "op = cq.Z(qubit1[0])\n",
    "\n",
    "r1 = tfq.layers.Expectation()(caux,symbol_names=[cparams[0], cparams[1]], symbol_values=valores1, operators = op)\n",
    "\n",
    "print(r1)"
   ]
  },
  {
   "cell_type": "code",
   "execution_count": 23,
   "id": "a0483d67",
   "metadata": {},
   "outputs": [
    {
     "name": "stdout",
     "output_type": "stream",
     "text": [
      "[[3.6866176  2.010756  ]\n",
      " [5.425159   1.4186217 ]\n",
      " [3.3151512  6.248425  ]\n",
      " [1.0881704  0.90634793]\n",
      " [2.8308911  0.58349156]\n",
      " [3.3768823  3.9559145 ]\n",
      " [5.909548   2.3224912 ]\n",
      " [3.2387266  4.7208524 ]\n",
      " [3.5355732  3.3257535 ]\n",
      " [6.2623515  0.23142444]]\n",
      "[[0. 0.]\n",
      " [0. 0.]\n",
      " [0. 0.]\n",
      " [0. 0.]\n",
      " [0. 0.]\n",
      " [0. 0.]\n",
      " [0. 0.]\n",
      " [0. 0.]\n",
      " [0. 0.]\n",
      " [0. 0.]]\n"
     ]
    }
   ],
   "source": [
    "valores_prueba = np.array(np.random.uniform(0, 2 * np.pi, (10,2)), dtype = np.float32)\n",
    "no_rotaciones = np.zeros(valores_prueba.shape)\n",
    "print(valores_prueba)\n",
    "print(no_rotaciones)"
   ]
  },
  {
   "cell_type": "code",
   "execution_count": 25,
   "id": "3e381cc9",
   "metadata": {},
   "outputs": [
    {
     "name": "stdout",
     "output_type": "stream",
     "text": [
      "[cirq.GridQubit(0, 0), cirq.GridQubit(0, 1), cirq.GridQubit(0, 2)]\n"
     ]
    },
    {
     "data": {
      "image/svg+xml": [
       "<svg xmlns=\"http://www.w3.org/2000/svg\" width=\"772.6978125\" height=\"190.0\"><line x1=\"32.246796875\" x2=\"742.6978125\" y1=\"45.0\" y2=\"45.0\" stroke=\"#1967d2\" stroke-width=\"1\" /><line x1=\"32.246796875\" x2=\"742.6978125\" y1=\"95.0\" y2=\"95.0\" stroke=\"#1967d2\" stroke-width=\"1\" /><line x1=\"32.246796875\" x2=\"742.6978125\" y1=\"145.0\" y2=\"145.0\" stroke=\"#1967d2\" stroke-width=\"1\" /><line x1=\"572.6978125\" x2=\"662.6978125\" y1=\"5.0\" y2=\"5.0\" stroke=\"black\" stroke-width=\"1\" /><line x1=\"572.6978125\" x2=\"662.6978125\" y1=\"185.0\" y2=\"185.0\" stroke=\"black\" stroke-width=\"1\" /><line x1=\"154.49359375\" x2=\"154.49359375\" y1=\"95.0\" y2=\"145.0\" stroke=\"black\" stroke-width=\"3\" /><line x1=\"214.49359375\" x2=\"214.49359375\" y1=\"45.0\" y2=\"95.0\" stroke=\"black\" stroke-width=\"3\" /><line x1=\"542.6978125\" x2=\"542.6978125\" y1=\"95.0\" y2=\"145.0\" stroke=\"black\" stroke-width=\"3\" /><line x1=\"592.6978125\" x2=\"592.6978125\" y1=\"45.0\" y2=\"145.0\" stroke=\"black\" stroke-width=\"3\" /><line x1=\"572.6978125\" x2=\"572.6978125\" y1=\"5.0\" y2=\"15.0\" stroke=\"black\" stroke-width=\"3\" /><line x1=\"662.6978125\" x2=\"662.6978125\" y1=\"5.0\" y2=\"15.0\" stroke=\"black\" stroke-width=\"3\" /><line x1=\"572.6978125\" x2=\"572.6978125\" y1=\"175.0\" y2=\"185.0\" stroke=\"black\" stroke-width=\"3\" /><line x1=\"662.6978125\" x2=\"662.6978125\" y1=\"175.0\" y2=\"185.0\" stroke=\"black\" stroke-width=\"3\" /><rect x=\"10.0\" y=\"25.0\" width=\"44.49359375\" height=\"40\" stroke=\"black\" fill=\"white\" stroke-width=\"0\" /><text x=\"32.246796875\" y=\"45.0\" dominant-baseline=\"middle\" text-anchor=\"middle\" font-size=\"14px\">(0, 0): </text><rect x=\"10.0\" y=\"75.0\" width=\"44.49359375\" height=\"40\" stroke=\"black\" fill=\"white\" stroke-width=\"0\" /><text x=\"32.246796875\" y=\"95.0\" dominant-baseline=\"middle\" text-anchor=\"middle\" font-size=\"14px\">(0, 1): </text><rect x=\"10.0\" y=\"125.0\" width=\"44.49359375\" height=\"40\" stroke=\"black\" fill=\"white\" stroke-width=\"0\" /><text x=\"32.246796875\" y=\"145.0\" dominant-baseline=\"middle\" text-anchor=\"middle\" font-size=\"14px\">(0, 2): </text><rect x=\"74.49359375\" y=\"75.0\" width=\"40\" height=\"40\" stroke=\"black\" fill=\"white\" stroke-width=\"1\" /><text x=\"94.49359375\" y=\"95.0\" dominant-baseline=\"middle\" text-anchor=\"middle\" font-size=\"18px\">H</text><circle cx=\"154.49359375\" cy=\"95.0\" r=\"10.0\" /><rect x=\"134.49359375\" y=\"125.0\" width=\"40\" height=\"40\" stroke=\"black\" fill=\"white\" stroke-width=\"1\" /><text x=\"154.49359375\" y=\"145.0\" dominant-baseline=\"middle\" text-anchor=\"middle\" font-size=\"18px\">X</text><circle cx=\"214.49359375\" cy=\"45.0\" r=\"10.0\" /><rect x=\"194.49359375\" y=\"75.0\" width=\"40\" height=\"40\" stroke=\"black\" fill=\"white\" stroke-width=\"1\" /><text x=\"214.49359375\" y=\"95.0\" dominant-baseline=\"middle\" text-anchor=\"middle\" font-size=\"18px\">X</text><rect x=\"254.49359375\" y=\"25.0\" width=\"44.487578125\" height=\"40\" stroke=\"black\" fill=\"white\" stroke-width=\"1\" /><text x=\"276.7373828125\" y=\"45.0\" dominant-baseline=\"middle\" text-anchor=\"middle\" font-size=\"18px\">H</text><rect x=\"254.49359375\" y=\"75.0\" width=\"44.487578125\" height=\"40\" stroke=\"black\" fill=\"white\" stroke-width=\"1\" /><text x=\"276.7373828125\" y=\"95.0\" dominant-baseline=\"middle\" text-anchor=\"middle\" font-size=\"14px\">Rx(π)</text><rect x=\"318.981171875\" y=\"75.0\" width=\"44.487578125\" height=\"40\" stroke=\"black\" fill=\"white\" stroke-width=\"1\" /><text x=\"341.2249609375\" y=\"95.0\" dominant-baseline=\"middle\" text-anchor=\"middle\" font-size=\"14px\">Rz(π)</text><rect x=\"383.46875\" y=\"75.0\" width=\"49.61453125\" height=\"40\" stroke=\"black\" fill=\"white\" stroke-width=\"1\" /><text x=\"408.276015625\" y=\"95.0\" dominant-baseline=\"middle\" text-anchor=\"middle\" font-size=\"14px\">Rx(v0)</text><rect x=\"453.08328125\" y=\"75.0\" width=\"49.61453125\" height=\"40\" stroke=\"black\" fill=\"white\" stroke-width=\"1\" /><text x=\"477.89054687500004\" y=\"95.0\" dominant-baseline=\"middle\" text-anchor=\"middle\" font-size=\"14px\">Rz(v1)</text><circle cx=\"542.6978125\" cy=\"95.0\" r=\"10.0\" /><rect x=\"522.6978125\" y=\"125.0\" width=\"40\" height=\"40\" stroke=\"black\" fill=\"white\" stroke-width=\"1\" /><text x=\"542.6978125\" y=\"145.0\" dominant-baseline=\"middle\" text-anchor=\"middle\" font-size=\"18px\">X</text><circle cx=\"592.6978125\" cy=\"45.0\" r=\"10.0\" /><circle cx=\"592.6978125\" cy=\"145.0\" r=\"10.0\" /><rect x=\"612.6978125\" y=\"75.0\" width=\"40\" height=\"40\" stroke=\"black\" fill=\"white\" stroke-width=\"1\" /><text x=\"632.6978125\" y=\"95.0\" dominant-baseline=\"middle\" text-anchor=\"middle\" font-size=\"18px\">M</text><rect x=\"682.6978125\" y=\"25.0\" width=\"40\" height=\"40\" stroke=\"black\" fill=\"white\" stroke-width=\"1\" /><text x=\"702.6978125\" y=\"45.0\" dominant-baseline=\"middle\" text-anchor=\"middle\" font-size=\"18px\">M</text><rect x=\"682.6978125\" y=\"125.0\" width=\"40\" height=\"40\" stroke=\"black\" fill=\"white\" stroke-width=\"1\" /><text x=\"702.6978125\" y=\"145.0\" dominant-baseline=\"middle\" text-anchor=\"middle\" font-size=\"18px\">M</text></svg>"
      ],
      "text/plain": [
       "<cirq.contrib.svg.svg.SVGCircuit at 0x29eb9ea5288>"
      ]
     },
     "execution_count": 25,
     "metadata": {},
     "output_type": "execute_result"
    }
   ],
   "source": [
    "ctr_params = sp.symbols('v0 , v1')\n",
    "c2, qubits, circuitos = prodTelepRyC(np.pi,np.pi,0, ctr_params)\n",
    "print(qubits)\n",
    "SVGCircuit(c2)\n"
   ]
  },
  {
   "cell_type": "code",
   "execution_count": 26,
   "id": "b67a0850",
   "metadata": {},
   "outputs": [
    {
     "name": "stdout",
     "output_type": "stream",
     "text": [
      "(1,)\n",
      "<dtype: 'string'>\n"
     ]
    }
   ],
   "source": [
    "circuit_tensor = tfq.convert_to_tensor([c2])\n",
    "print(circuit_tensor.shape)\n",
    "print(circuit_tensor.dtype)"
   ]
  },
  {
   "cell_type": "code",
   "execution_count": 27,
   "id": "c0f848f6",
   "metadata": {},
   "outputs": [
    {
     "name": "stdout",
     "output_type": "stream",
     "text": [
      "tf.Tensor(\n",
      "[[ 0.8551142 ]\n",
      " [-0.65393174]\n",
      " [ 0.9849764 ]\n",
      " [-0.46410686]\n",
      " [ 0.95211935]\n",
      " [ 0.972447  ]\n",
      " [-0.9310055 ]\n",
      " [ 0.9952861 ]\n",
      " [ 0.9233883 ]\n",
      " [-0.99978316]], shape=(10, 1), dtype=float32)\n"
     ]
    }
   ],
   "source": [
    "z = cq.Z(qubits[2])\n",
    "r = tfq.layers.Expectation()(c2,symbol_names=[ctr_params[0], ctr_params[1]], symbol_values=valores_prueba, operators = z)\n",
    "\n",
    "print(r)"
   ]
  },
  {
   "cell_type": "code",
   "execution_count": 34,
   "id": "cc2c523b",
   "metadata": {},
   "outputs": [
    {
     "name": "stdout",
     "output_type": "stream",
     "text": [
      "tf.Tensor(\n",
      "[[-0.9999999]\n",
      " [-0.9999999]\n",
      " [-0.9999999]\n",
      " [-0.9999999]\n",
      " [-0.9999999]\n",
      " [-0.9999999]\n",
      " [-0.9999999]\n",
      " [-0.9999999]\n",
      " [-0.9999999]\n",
      " [-0.9999999]], shape=(10, 1), dtype=float32)\n"
     ]
    }
   ],
   "source": [
    "r2 = tfq.layers.Expectation()(c2,symbol_names=[ctr_params[0], ctr_params[1]], symbol_values=no_rotaciones, operators = z)\n",
    "print(r2)"
   ]
  },
  {
   "cell_type": "markdown",
   "id": "837a6b4d",
   "metadata": {},
   "source": [
    "## Construcción de la red neuronal"
   ]
  },
  {
   "cell_type": "markdown",
   "id": "af92a0c2",
   "metadata": {},
   "source": [
    "### Circuito Controlado"
   ]
  },
  {
   "cell_type": "code",
   "execution_count": 140,
   "id": "fa239198",
   "metadata": {},
   "outputs": [
    {
     "data": {
      "image/svg+xml": [
       "<svg xmlns=\"http://www.w3.org/2000/svg\" width=\"224.49359375\" height=\"100.0\"><line x1=\"32.246796875\" x2=\"194.49359375\" y1=\"25.0\" y2=\"25.0\" stroke=\"#1967d2\" stroke-width=\"1\" /><line x1=\"32.246796875\" x2=\"194.49359375\" y1=\"75.0\" y2=\"75.0\" stroke=\"#1967d2\" stroke-width=\"1\" /><line x1=\"154.49359375\" x2=\"154.49359375\" y1=\"25.0\" y2=\"75.0\" stroke=\"black\" stroke-width=\"3\" /><rect x=\"10.0\" y=\"5.0\" width=\"44.49359375\" height=\"40\" stroke=\"black\" fill=\"white\" stroke-width=\"0\" /><text x=\"32.246796875\" y=\"25.0\" dominant-baseline=\"middle\" text-anchor=\"middle\" font-size=\"14px\">(0, 0): </text><rect x=\"10.0\" y=\"55.0\" width=\"44.49359375\" height=\"40\" stroke=\"black\" fill=\"white\" stroke-width=\"0\" /><text x=\"32.246796875\" y=\"75.0\" dominant-baseline=\"middle\" text-anchor=\"middle\" font-size=\"14px\">(0, 1): </text><rect x=\"74.49359375\" y=\"5.0\" width=\"40\" height=\"40\" stroke=\"black\" fill=\"white\" stroke-width=\"1\" /><text x=\"94.49359375\" y=\"25.0\" dominant-baseline=\"middle\" text-anchor=\"middle\" font-size=\"18px\">H</text><circle cx=\"154.49359375\" cy=\"25.0\" r=\"10.0\" /><rect x=\"134.49359375\" y=\"55.0\" width=\"40\" height=\"40\" stroke=\"black\" fill=\"white\" stroke-width=\"1\" /><text x=\"154.49359375\" y=\"75.0\" dominant-baseline=\"middle\" text-anchor=\"middle\" font-size=\"18px\">X</text></svg>"
      ],
      "text/plain": [
       "<cirq.contrib.svg.svg.SVGCircuit at 0x29eba574388>"
      ]
     },
     "execution_count": 140,
     "metadata": {},
     "output_type": "execute_result"
    }
   ],
   "source": [
    "ctr_params = sp.symbols('v0 , v1')\n",
    "c3, qubits3, partes = producirCodifDensaGuess(ctr_params)\n",
    "entrada = partes[0]\n",
    "controlado = partes[1]\n",
    "SVGCircuit(entrada)"
   ]
  },
  {
   "cell_type": "code",
   "execution_count": 141,
   "id": "5ef1bd83",
   "metadata": {},
   "outputs": [
    {
     "data": {
      "image/svg+xml": [
       "<svg xmlns=\"http://www.w3.org/2000/svg\" width=\"423.72265625\" height=\"100.0\"><line x1=\"32.246796875\" x2=\"393.72265625\" y1=\"25.0\" y2=\"25.0\" stroke=\"#1967d2\" stroke-width=\"1\" /><line x1=\"32.246796875\" x2=\"393.72265625\" y1=\"75.0\" y2=\"75.0\" stroke=\"#1967d2\" stroke-width=\"1\" /><line x1=\"233.72265625\" x2=\"233.72265625\" y1=\"25.0\" y2=\"75.0\" stroke=\"black\" stroke-width=\"3\" /><rect x=\"10.0\" y=\"5.0\" width=\"44.49359375\" height=\"40\" stroke=\"black\" fill=\"white\" stroke-width=\"0\" /><text x=\"32.246796875\" y=\"25.0\" dominant-baseline=\"middle\" text-anchor=\"middle\" font-size=\"14px\">(0, 0): </text><rect x=\"10.0\" y=\"55.0\" width=\"44.49359375\" height=\"40\" stroke=\"black\" fill=\"white\" stroke-width=\"0\" /><text x=\"32.246796875\" y=\"75.0\" dominant-baseline=\"middle\" text-anchor=\"middle\" font-size=\"14px\">(0, 1): </text><rect x=\"74.49359375\" y=\"5.0\" width=\"49.61453125\" height=\"40\" stroke=\"black\" fill=\"white\" stroke-width=\"1\" /><text x=\"99.300859375\" y=\"25.0\" dominant-baseline=\"middle\" text-anchor=\"middle\" font-size=\"14px\">Rx(v0)</text><rect x=\"144.10812499999997\" y=\"5.0\" width=\"49.61453125\" height=\"40\" stroke=\"black\" fill=\"white\" stroke-width=\"1\" /><text x=\"168.915390625\" y=\"25.0\" dominant-baseline=\"middle\" text-anchor=\"middle\" font-size=\"14px\">Rz(v1)</text><circle cx=\"233.72265625\" cy=\"25.0\" r=\"10.0\" /><rect x=\"213.72265625\" y=\"55.0\" width=\"40\" height=\"40\" stroke=\"black\" fill=\"white\" stroke-width=\"1\" /><text x=\"233.72265625\" y=\"75.0\" dominant-baseline=\"middle\" text-anchor=\"middle\" font-size=\"18px\">X</text><rect x=\"273.72265625\" y=\"5.0\" width=\"40\" height=\"40\" stroke=\"black\" fill=\"white\" stroke-width=\"1\" /><text x=\"293.72265625\" y=\"25.0\" dominant-baseline=\"middle\" text-anchor=\"middle\" font-size=\"18px\">H</text><rect x=\"273.72265625\" y=\"55.0\" width=\"40\" height=\"40\" stroke=\"black\" fill=\"white\" stroke-width=\"1\" /><text x=\"293.72265625\" y=\"75.0\" dominant-baseline=\"middle\" text-anchor=\"middle\" font-size=\"18px\">M</text><rect x=\"333.72265625\" y=\"5.0\" width=\"40\" height=\"40\" stroke=\"black\" fill=\"white\" stroke-width=\"1\" /><text x=\"353.72265625\" y=\"25.0\" dominant-baseline=\"middle\" text-anchor=\"middle\" font-size=\"18px\">M</text></svg>"
      ],
      "text/plain": [
       "<cirq.contrib.svg.svg.SVGCircuit at 0x29eba5724c8>"
      ]
     },
     "execution_count": 141,
     "metadata": {},
     "output_type": "execute_result"
    }
   ],
   "source": [
    "SVGCircuit(controlado)"
   ]
  },
  {
   "cell_type": "code",
   "execution_count": 156,
   "id": "b1fb866e",
   "metadata": {},
   "outputs": [
    {
     "data": {
      "image/svg+xml": [
       "<svg xmlns=\"http://www.w3.org/2000/svg\" width=\"543.72265625\" height=\"100.0\"><line x1=\"32.246796875\" x2=\"513.72265625\" y1=\"25.0\" y2=\"25.0\" stroke=\"#1967d2\" stroke-width=\"1\" /><line x1=\"32.246796875\" x2=\"513.72265625\" y1=\"75.0\" y2=\"75.0\" stroke=\"#1967d2\" stroke-width=\"1\" /><line x1=\"154.49359375\" x2=\"154.49359375\" y1=\"25.0\" y2=\"75.0\" stroke=\"black\" stroke-width=\"3\" /><line x1=\"353.72265625\" x2=\"353.72265625\" y1=\"25.0\" y2=\"75.0\" stroke=\"black\" stroke-width=\"3\" /><rect x=\"10.0\" y=\"5.0\" width=\"44.49359375\" height=\"40\" stroke=\"black\" fill=\"white\" stroke-width=\"0\" /><text x=\"32.246796875\" y=\"25.0\" dominant-baseline=\"middle\" text-anchor=\"middle\" font-size=\"14px\">(0, 0): </text><rect x=\"10.0\" y=\"55.0\" width=\"44.49359375\" height=\"40\" stroke=\"black\" fill=\"white\" stroke-width=\"0\" /><text x=\"32.246796875\" y=\"75.0\" dominant-baseline=\"middle\" text-anchor=\"middle\" font-size=\"14px\">(0, 1): </text><rect x=\"74.49359375\" y=\"5.0\" width=\"40\" height=\"40\" stroke=\"black\" fill=\"white\" stroke-width=\"1\" /><text x=\"94.49359375\" y=\"25.0\" dominant-baseline=\"middle\" text-anchor=\"middle\" font-size=\"18px\">H</text><circle cx=\"154.49359375\" cy=\"25.0\" r=\"10.0\" /><rect x=\"134.49359375\" y=\"55.0\" width=\"40\" height=\"40\" stroke=\"black\" fill=\"white\" stroke-width=\"1\" /><text x=\"154.49359375\" y=\"75.0\" dominant-baseline=\"middle\" text-anchor=\"middle\" font-size=\"18px\">X</text><rect x=\"194.49359375\" y=\"5.0\" width=\"49.61453125\" height=\"40\" stroke=\"black\" fill=\"white\" stroke-width=\"1\" /><text x=\"219.30085937500002\" y=\"25.0\" dominant-baseline=\"middle\" text-anchor=\"middle\" font-size=\"14px\">Rx(v0)</text><rect x=\"264.108125\" y=\"5.0\" width=\"49.61453125\" height=\"40\" stroke=\"black\" fill=\"white\" stroke-width=\"1\" /><text x=\"288.915390625\" y=\"25.0\" dominant-baseline=\"middle\" text-anchor=\"middle\" font-size=\"14px\">Rz(v1)</text><circle cx=\"353.72265625\" cy=\"25.0\" r=\"10.0\" /><rect x=\"333.72265625\" y=\"55.0\" width=\"40\" height=\"40\" stroke=\"black\" fill=\"white\" stroke-width=\"1\" /><text x=\"353.72265625\" y=\"75.0\" dominant-baseline=\"middle\" text-anchor=\"middle\" font-size=\"18px\">X</text><rect x=\"393.72265625\" y=\"5.0\" width=\"40\" height=\"40\" stroke=\"black\" fill=\"white\" stroke-width=\"1\" /><text x=\"413.72265625\" y=\"25.0\" dominant-baseline=\"middle\" text-anchor=\"middle\" font-size=\"18px\">H</text><rect x=\"393.72265625\" y=\"55.0\" width=\"40\" height=\"40\" stroke=\"black\" fill=\"white\" stroke-width=\"1\" /><text x=\"413.72265625\" y=\"75.0\" dominant-baseline=\"middle\" text-anchor=\"middle\" font-size=\"18px\">M</text><rect x=\"453.72265625\" y=\"5.0\" width=\"40\" height=\"40\" stroke=\"black\" fill=\"white\" stroke-width=\"1\" /><text x=\"473.72265625\" y=\"25.0\" dominant-baseline=\"middle\" text-anchor=\"middle\" font-size=\"18px\">M</text></svg>"
      ],
      "text/plain": [
       "<cirq.contrib.svg.svg.SVGCircuit at 0x29ec40ae6c8>"
      ]
     },
     "execution_count": 156,
     "metadata": {},
     "output_type": "execute_result"
    }
   ],
   "source": [
    "SVGCircuit(c3)"
   ]
  },
  {
   "cell_type": "markdown",
   "id": "e8b56447",
   "metadata": {},
   "source": [
    "## Construcción y entrenamiento del modelo"
   ]
  },
  {
   "cell_type": "markdown",
   "id": "c5cf7453",
   "metadata": {},
   "source": [
    "### Para la codificación superdensa"
   ]
  },
  {
   "cell_type": "code",
   "execution_count": 142,
   "id": "ee357abd",
   "metadata": {},
   "outputs": [],
   "source": [
    "def construirModeloCSD(ruidoX, ruidoZ):\n",
    "    # Construccion de circuitos de entrada / controlado\n",
    "    ctr_params = sp.symbols('v0 , v1')\n",
    "    c, qubits, partes = prodCodifDensaRyC(ruidoX, ruidoX , ctr_params, 1, 1)\n",
    "    \n",
    "    entrada = partes[0]\n",
    "    controlado = partes[1]\n",
    "    \n",
    "    # Configuracion del controlador\n",
    "    controller = tf.keras.Sequential([\n",
    "        tf.keras.layers.Dense(10, activation = 'elu'),\n",
    "        tf.keras.layers.Dense(2)\n",
    "    ])\n",
    "    \n",
    "    # Configuracion de las entrads\n",
    "    circuito_entrada = tf.keras.Input(shape = (), dtype = tf.string, name = 'circuito_entrada')\n",
    "    comandos_entrada = tf.keras.Input(shape = (1,), dtype = tf.dtypes.float32, name = 'entrada_comandos')\n",
    "    \n",
    "    # Crear el controlador\n",
    "    capa1 = controller(comandos_entrada)\n",
    "    \n",
    "    # Operador para medir \n",
    "    z2 = 2 * cq.Z(qubits[1]) + cq.Z(qubits[0])\n",
    "    \n",
    "    # Configurar la capa de salida\n",
    "    capaExpected = tfq.layers.ControlledPQC(controlado, operators = z2)\n",
    "    \n",
    "    # Crear la capa de salida\n",
    "    calculo_expected = capaExpected([circuito_entrada, capa1])\n",
    "    \n",
    "    # Configurar el modelo\n",
    "    modelo = tf.keras.Model(inputs = [circuito_entrada, comandos_entrada], outputs = calculo_expected)\n",
    "    \n",
    "    # Configurar Comandos\n",
    "    # Se busca generar un 1 con el comando 1 -> No tiene sentido generar un 0\n",
    "    comandos = np.array([[11]], dtype = np.float32)\n",
    "    salidas_esperadas = np.array([[-3]], dtype = np.float32)\n",
    "    \n",
    "    # Generar un tensor con los 2 circuitos de entrada (una para cada entrada)\n",
    "    generador_datos = tfq.convert_to_tensor([entrada])\n",
    "    \n",
    "    # Entrenar el modelo\n",
    "    optimizer = tf.keras.optimizers.Adam(learning_rate = 0.5)\n",
    "    loss = tf.keras.losses.MeanSquaredError()\n",
    "    modelo.compile(optimizer = optimizer, loss = loss)\n",
    "    history = modelo.fit( x = [generador_datos, comandos], y = salidas_esperadas, epochs = 50000, verbose = 0)\n",
    "    \n",
    "    plt.plot(history.history['loss'])\n",
    "    plt.title(\" Resultados de codificacion superdensa \")\n",
    "    plt.xlabel(\"Iteraciones\")\n",
    "    plt.ylabel(\"Error\")\n",
    "    plt.show()\n",
    "    \n",
    "    print(controller(tf.constant([[1]])))\n",
    "    \n",
    "    print(controller(tf.constant([[1]])).numpy())\n",
    "    ar = controller(tf.constant([[1]])).numpy()\n",
    "    \n",
    "    print(\"El error final es {}\".format(history.history['loss'][-1]))\n",
    "    \n",
    "    return c, ctr_params, ar"
   ]
  },
  {
   "cell_type": "code",
   "execution_count": 144,
   "id": "8d941cbf",
   "metadata": {},
   "outputs": [
    {
     "data": {
      "image/png": "[encoded data removed]",
      "text/plain": [
       "<Figure size 432x288 with 1 Axes>"
      ]
     },
     "metadata": {
      "needs_background": "light"
     },
     "output_type": "display_data"
    },
    {
     "name": "stdout",
     "output_type": "stream",
     "text": [
      "tf.Tensor([[3.0991325 3.1045344]], shape=(1, 2), dtype=float32)\n",
      "[[3.0991325 3.1045344]]\n",
      "El error final es 3.4792014957929496e-07\n"
     ]
    },
    {
     "data": {
      "image/png": "[encoded data removed]",
      "text/plain": [
       "<Figure size 432x288 with 1 Axes>"
      ]
     },
     "metadata": {
      "needs_background": "light"
     },
     "output_type": "display_data"
    }
   ],
   "source": [
    "m = construirModeloCSD(3,3)\n",
    "c = m[0]\n",
    "ctr_params = m[1]\n",
    "ar = m[2]\n",
    "\n",
    "for i in range(ar.shape[0]):\n",
    "    p0 = ar[i][0]\n",
    "    p1 = ar[i][1]\n",
    "    \n",
    "    simulator = cq.Simulator()\n",
    "    resolver = cq.ParamResolver({ctr_params[0] : p0 , ctr_params[1] : p1})\n",
    "    \n",
    "    res = []\n",
    "    \n",
    "    for i in range(1000):\n",
    "        r = simulator.simulate(c, resolver)\n",
    "        b0 = r.measurements['(0, 0)'][0]\n",
    "        b1 = r.measurements['(0, 1)'][0]\n",
    "        res.append(2*b1 + b0)\n",
    "        \n",
    "    plt.figure()\n",
    "    plt.hist(res,bins = [0,1,2,3,4], align = 'left', rwidth = 0.5)\n",
    "    plt.xlabel(\"Valor medido\")\n",
    "    plt.ylabel(\"Veces\")\n",
    "    plt.show()"
   ]
  },
  {
   "cell_type": "code",
   "execution_count": 153,
   "id": "7ff4c14c",
   "metadata": {},
   "outputs": [],
   "source": [
    "def construirModeloGCSD():\n",
    "    # Construccion de circuitos de entrada / controlado\n",
    "    ctr_params = sp.symbols('v0 , v1')\n",
    "    c, qubits, partes = producirCodifDensaGuess(ctr_params)\n",
    "    \n",
    "    entrada = partes[0]\n",
    "    controlado = partes[1]\n",
    "    \n",
    "    # Configuracion del controlador\n",
    "    controller = tf.keras.Sequential([\n",
    "        tf.keras.layers.Dense(10, activation = 'elu'),\n",
    "        tf.keras.layers.Dense(2)\n",
    "    ])\n",
    "\n",
    "    # Configuracion de las entrads\n",
    "    circuito_entrada = tf.keras.Input(shape = (), dtype = tf.string, name = 'circuito_entrada')\n",
    "    comandos_entrada = tf.keras.Input(shape = (1,), dtype = tf.dtypes.float32, name = 'entrada_comandos')\n",
    "    \n",
    "    # Crear el controlador\n",
    "    capa1 = controller(comandos_entrada)\n",
    "    \n",
    "    # Operador para medir \n",
    "    z2 = 2*cq.Z(qubits[1]) + cq.Z(qubits[0])\n",
    "\n",
    "    # Configurar la capa de salida\n",
    "    capaExpected = tfq.layers.ControlledPQC(controlado, operators = z2)\n",
    "    \n",
    "    # Crear la capa de salida\n",
    "    calculo_expected = capaExpected([circuito_entrada, capa1])\n",
    "    \n",
    "    # Configurar el modelo\n",
    "    modelo = tf.keras.Model(inputs = [circuito_entrada, comandos_entrada], outputs = calculo_expected)\n",
    "    \n",
    "    # Configurar Comandos y salidas para cada comando\n",
    "    comandos = np.array([[0],[1],[10],[11]], dtype = np.float32)\n",
    "    salidas_esperadas = np.array([[3],[1],[-1],[-3]], dtype = np.float32)\n",
    "    \n",
    "    # Generar un tensor con los 4 circuitos de entrada (una para cada entrada)\n",
    "    generador_datos = tfq.convert_to_tensor([entrada]*4)\n",
    "    \n",
    "    # Entrenar el modelo\n",
    "    optimizer = tf.keras.optimizers.Adam(learning_rate = 0.05)\n",
    "    loss = tf.keras.losses.MeanSquaredError()\n",
    "    modelo.compile(optimizer = optimizer, loss = loss)\n",
    "    history = modelo.fit( x = [generador_datos, comandos], y = salidas_esperadas, epochs = 50000, verbose = 0)\n",
    "\n",
    "    plt.plot(history.history['loss'])\n",
    "    plt.title(\" Resultados de codificacion superdensa \")\n",
    "    plt.xlabel(\"Iteraciones\")\n",
    "    plt.ylabel(\"Error\")\n",
    "    plt.show()\n",
    "    \n",
    "    print(controller(tf.constant([[0],[1],[10],[11]])).numpy())\n",
    "    ar = controller(tf.constant([[0],[1],[10],[11]])).numpy()\n",
    "    \n",
    "    print(\"El error final es {}\".format(history.history['loss'][-1]))\n",
    "    return c, ctr_params, ar"
   ]
  },
  {
   "cell_type": "code",
   "execution_count": 155,
   "id": "ad967081",
   "metadata": {
    "scrolled": false
   },
   "outputs": [
    {
     "data": {
      "image/png": "[encoded data removed]",
      "text/plain": [
       "<Figure size 432x288 with 1 Axes>"
      ]
     },
     "metadata": {
      "needs_background": "light"
     },
     "output_type": "display_data"
    },
    {
     "name": "stdout",
     "output_type": "stream",
     "text": [
      "[[-1.23838186e-02  1.12730265e-02]\n",
      " [-5.03219783e-01 -8.70517540e+00]\n",
      " [ 2.50757837e+00 -1.97641029e+01]\n",
      " [ 3.07125711e+00 -2.18992691e+01]]\n",
      "El error final es 2.138580020982772e-05\n",
      "ar = [[-1.23838186e-02  1.12730265e-02]\n",
      " [-5.03219783e-01 -8.70517540e+00]\n",
      " [ 2.50757837e+00 -1.97641029e+01]\n",
      " [ 3.07125711e+00 -2.18992691e+01]]\n"
     ]
    },
    {
     "data": {
      "image/png": "[encoded data removed]",
      "text/plain": [
       "<Figure size 432x288 with 1 Axes>"
      ]
     },
     "metadata": {
      "needs_background": "light"
     },
     "output_type": "display_data"
    },
    {
     "data": {
      "image/png": "[encoded data removed]",
      "text/plain": [
       "<Figure size 432x288 with 1 Axes>"
      ]
     },
     "metadata": {
      "needs_background": "light"
     },
     "output_type": "display_data"
    },
    {
     "data": {
      "image/png": "[encoded data removed]",
      "text/plain": [
       "<Figure size 432x288 with 1 Axes>"
      ]
     },
     "metadata": {
      "needs_background": "light"
     },
     "output_type": "display_data"
    },
    {
     "data": {
      "image/png": "[encoded data removed]",
      "text/plain": [
       "<Figure size 432x288 with 1 Axes>"
      ]
     },
     "metadata": {
      "needs_background": "light"
     },
     "output_type": "display_data"
    }
   ],
   "source": [
    "m = construirModeloGCSD()\n",
    "c = m[0]\n",
    "ctr_params = m[1]\n",
    "ar = m[2]\n",
    "\n",
    "print(\"ar = {}\".format(ar))\n",
    "\n",
    "for i in range(ar.shape[0]):\n",
    "    p0 = ar[i][0]\n",
    "    p1 = ar[i][1]\n",
    "    \n",
    "    simulator = cq.Simulator()\n",
    "    resolver = cq.ParamResolver({ctr_params[0] : p0 , ctr_params[1] : p1})\n",
    "    \n",
    "    res = []\n",
    "    for j in range(1000):\n",
    "        r = simulator.simulate(c, resolver)\n",
    "        b0 = r.measurements['(0, 0)'][0]\n",
    "        b1 = r.measurements['(0, 1)'][0]\n",
    "        res.append(2*b1 + b0)\n",
    "    \n",
    "    plt.figure()\n",
    "    plt.hist(res,bins = [0,1,2,3,4], align = 'left', rwidth = 0.5)\n",
    "    plt.xlabel(\"Valor medido\")\n",
    "    plt.ylabel(\"Veces\")\n",
    "    plt.title(\"Para los valores aprendidos {} y {} correspondientes al estado {}\".format(p0,p1,i))\n",
    "    "
   ]
  },
  {
   "cell_type": "markdown",
   "id": "66d1fe6d",
   "metadata": {},
   "source": [
    "### Para la teleportación cuántica"
   ]
  },
  {
   "cell_type": "code",
   "execution_count": 159,
   "id": "83dbc220",
   "metadata": {},
   "outputs": [],
   "source": [
    "def construirModeloTPC():\n",
    "    # Construccion de circuitos de entrada / controlado\n",
    "    ctr_params = sp.symbols('v0 , v1')\n",
    "    c, qubits, partes = prodTelepRyC(3 , 3 , 1, ctr_params)\n",
    "    \n",
    "    entrada = partes[0]\n",
    "    controlado = partes[1]\n",
    "    \n",
    "    # Configuracion del controlador\n",
    "    controller = tf.keras.Sequential([\n",
    "        tf.keras.layers.Dense(10, activation = 'elu'),\n",
    "        tf.keras.layers.Dense(2)\n",
    "    ])\n",
    "    \n",
    "    # Configuracion de las entrads\n",
    "    circuito_entrada = tf.keras.Input(shape = (), dtype = tf.string, name = 'circuito_entrada')\n",
    "    comandos_entrada = tf.keras.Input(shape = (1,), dtype = tf.dtypes.float32, name = 'entrada_comandos')\n",
    "    \n",
    "    # Crear el controlador\n",
    "    capa1 = controller(comandos_entrada)\n",
    "    \n",
    "    # Operador para medir \n",
    "    z2 = cq.Z(qubits[2])\n",
    "    \n",
    "    # Configurar la capa de salida\n",
    "    capaExpected = tfq.layers.ControlledPQC(controlado, operators = z2)\n",
    "    \n",
    "    # Crear la capa de salida\n",
    "    calculo_expected = capaExpected([circuito_entrada, capa1])\n",
    "    \n",
    "    # Configurar el modelo\n",
    "    modelo = tf.keras.Model(inputs = [circuito_entrada, comandos_entrada], outputs = calculo_expected)\n",
    "    \n",
    "    # Configurar Comandos\n",
    "    # Se busca generar un 1 con el comando 1 -> No tiene sentido generar un 0\n",
    "    comandos = np.array([[1]], dtype = np.float32)\n",
    "    salidas_esperadas = np.array([[-1]], dtype = np.float32)\n",
    "    \n",
    "    # Generar un tensor con los 2 circuitos de entrada (una para cada entrada)\n",
    "    generador_datos = tfq.convert_to_tensor([entrada])\n",
    "    \n",
    "    # Entrenar el modelo\n",
    "    optimizer = tf.keras.optimizers.Adam(learning_rate = 0.1)\n",
    "    loss = tf.keras.losses.MeanSquaredError()\n",
    "    modelo.compile(optimizer = optimizer, loss = loss)\n",
    "    history = modelo.fit( x = [generador_datos, comandos], y = salidas_esperadas, epochs = 1000, verbose = 0)\n",
    "    \n",
    "    plt.plot(history.history['loss'])\n",
    "    plt.title(\" Resultados de teleportacion cuantica \")\n",
    "    plt.xlabel(\"Iteraciones\")\n",
    "    plt.ylabel(\"Error\")\n",
    "    plt.show()\n",
    "    \n",
    "    print(controller(tf.constant([[1]])).numpy())\n",
    "    ar = controller(tf.constant([[1]])).numpy()\n",
    "    \n",
    "    print(\"El error final es {}\".format(history.history['loss'][-1]))\n",
    "    \n",
    "    return c, ctr_params, ar"
   ]
  },
  {
   "cell_type": "code",
   "execution_count": 160,
   "id": "d998ad89",
   "metadata": {},
   "outputs": [
    {
     "data": {
      "image/png": "[encoded data removed]",
      "text/plain": [
       "<Figure size 432x288 with 1 Axes>"
      ]
     },
     "metadata": {
      "needs_background": "light"
     },
     "output_type": "display_data"
    },
    {
     "name": "stdout",
     "output_type": "stream",
     "text": [
      "[[ 3.0008614 -3.9363198]]\n",
      "El error final es 3.9419351338665365e-08\n"
     ]
    },
    {
     "data": {
      "image/png": "[encoded data removed]",
      "text/plain": [
       "<Figure size 432x288 with 1 Axes>"
      ]
     },
     "metadata": {
      "needs_background": "light"
     },
     "output_type": "display_data"
    }
   ],
   "source": [
    "m = construirModeloTPC()\n",
    "c = m[0]\n",
    "ctr_params = m[1]\n",
    "ar = m[2]\n",
    "\n",
    "for i in range(ar.shape[0]):\n",
    "    p0 = ar[i][0]\n",
    "    p1 = ar[i][1]\n",
    "    \n",
    "    simulator = cq.Simulator()\n",
    "    resolver = cq.ParamResolver({ctr_params[0] : p0 , ctr_params[1] : p1})\n",
    "    \n",
    "    res = []\n",
    "    \n",
    "    for i in range(1000):\n",
    "        r = simulator.simulate(c, resolver)\n",
    "        b0 = r.measurements['(0, 0)'][0]\n",
    "        b1 = r.measurements['(0, 1)'][0]\n",
    "        b2 = r.measurements['(0, 2)'][0]\n",
    "        res.append(4*b2 + 2*b1 + b0)\n",
    "        \n",
    "    plt.figure()\n",
    "    plt.hist(res,bins = [0,1,2,3,4,5,6,7,8], align = 'left', rwidth = 0.5)\n",
    "    plt.xlabel(\"Valor medido\")\n",
    "    plt.ylabel(\"Veces\")\n",
    "    plt.show()"
   ]
  },
  {
   "cell_type": "code",
   "execution_count": 161,
   "id": "5a073af3",
   "metadata": {},
   "outputs": [
    {
     "data": {
      "image/svg+xml": [
       "<svg xmlns=\"http://www.w3.org/2000/svg\" width=\"902.766171875\" height=\"190.0\"><line x1=\"32.246796875\" x2=\"872.766171875\" y1=\"45.0\" y2=\"45.0\" stroke=\"#1967d2\" stroke-width=\"1\" /><line x1=\"32.246796875\" x2=\"872.766171875\" y1=\"95.0\" y2=\"95.0\" stroke=\"#1967d2\" stroke-width=\"1\" /><line x1=\"32.246796875\" x2=\"872.766171875\" y1=\"145.0\" y2=\"145.0\" stroke=\"#1967d2\" stroke-width=\"1\" /><line x1=\"702.766171875\" x2=\"792.766171875\" y1=\"5.0\" y2=\"5.0\" stroke=\"black\" stroke-width=\"1\" /><line x1=\"702.766171875\" x2=\"792.766171875\" y1=\"185.0\" y2=\"185.0\" stroke=\"black\" stroke-width=\"1\" /><line x1=\"214.49359375\" x2=\"214.49359375\" y1=\"95.0\" y2=\"145.0\" stroke=\"black\" stroke-width=\"3\" /><line x1=\"274.49359375\" x2=\"274.49359375\" y1=\"45.0\" y2=\"95.0\" stroke=\"black\" stroke-width=\"3\" /><line x1=\"672.766171875\" x2=\"672.766171875\" y1=\"95.0\" y2=\"145.0\" stroke=\"black\" stroke-width=\"3\" /><line x1=\"722.766171875\" x2=\"722.766171875\" y1=\"45.0\" y2=\"145.0\" stroke=\"black\" stroke-width=\"3\" /><line x1=\"702.766171875\" x2=\"702.766171875\" y1=\"5.0\" y2=\"15.0\" stroke=\"black\" stroke-width=\"3\" /><line x1=\"792.766171875\" x2=\"792.766171875\" y1=\"5.0\" y2=\"15.0\" stroke=\"black\" stroke-width=\"3\" /><line x1=\"702.766171875\" x2=\"702.766171875\" y1=\"175.0\" y2=\"185.0\" stroke=\"black\" stroke-width=\"3\" /><line x1=\"792.766171875\" x2=\"792.766171875\" y1=\"175.0\" y2=\"185.0\" stroke=\"black\" stroke-width=\"3\" /><rect x=\"10.0\" y=\"25.0\" width=\"44.49359375\" height=\"40\" stroke=\"black\" fill=\"white\" stroke-width=\"0\" /><text x=\"32.246796875\" y=\"45.0\" dominant-baseline=\"middle\" text-anchor=\"middle\" font-size=\"14px\">(0, 0): </text><rect x=\"10.0\" y=\"75.0\" width=\"44.49359375\" height=\"40\" stroke=\"black\" fill=\"white\" stroke-width=\"0\" /><text x=\"32.246796875\" y=\"95.0\" dominant-baseline=\"middle\" text-anchor=\"middle\" font-size=\"14px\">(0, 1): </text><rect x=\"10.0\" y=\"125.0\" width=\"44.49359375\" height=\"40\" stroke=\"black\" fill=\"white\" stroke-width=\"0\" /><text x=\"32.246796875\" y=\"145.0\" dominant-baseline=\"middle\" text-anchor=\"middle\" font-size=\"14px\">(0, 2): </text><rect x=\"74.49359375\" y=\"25.0\" width=\"40\" height=\"40\" stroke=\"black\" fill=\"white\" stroke-width=\"1\" /><text x=\"94.49359375\" y=\"45.0\" dominant-baseline=\"middle\" text-anchor=\"middle\" font-size=\"18px\">X</text><rect x=\"134.49359375\" y=\"75.0\" width=\"40\" height=\"40\" stroke=\"black\" fill=\"white\" stroke-width=\"1\" /><text x=\"154.49359375\" y=\"95.0\" dominant-baseline=\"middle\" text-anchor=\"middle\" font-size=\"18px\">H</text><circle cx=\"214.49359375\" cy=\"95.0\" r=\"10.0\" /><rect x=\"194.49359375\" y=\"125.0\" width=\"40\" height=\"40\" stroke=\"black\" fill=\"white\" stroke-width=\"1\" /><text x=\"214.49359375\" y=\"145.0\" dominant-baseline=\"middle\" text-anchor=\"middle\" font-size=\"18px\">X</text><circle cx=\"274.49359375\" cy=\"45.0\" r=\"10.0\" /><rect x=\"254.49359375\" y=\"75.0\" width=\"40\" height=\"40\" stroke=\"black\" fill=\"white\" stroke-width=\"1\" /><text x=\"274.49359375\" y=\"95.0\" dominant-baseline=\"middle\" text-anchor=\"middle\" font-size=\"18px\">X</text><rect x=\"314.49359375\" y=\"25.0\" width=\"79.5217578125\" height=\"40\" stroke=\"black\" fill=\"white\" stroke-width=\"1\" /><text x=\"354.25447265625\" y=\"45.0\" dominant-baseline=\"middle\" text-anchor=\"middle\" font-size=\"18px\">H</text><rect x=\"314.49359375\" y=\"75.0\" width=\"79.5217578125\" height=\"40\" stroke=\"black\" fill=\"white\" stroke-width=\"1\" /><text x=\"354.25447265625\" y=\"95.0\" dominant-baseline=\"middle\" text-anchor=\"middle\" font-size=\"14px\">Rx(0.955π)</text><rect x=\"414.0153515625\" y=\"75.0\" width=\"79.5217578125\" height=\"40\" stroke=\"black\" fill=\"white\" stroke-width=\"1\" /><text x=\"453.77623046875\" y=\"95.0\" dominant-baseline=\"middle\" text-anchor=\"middle\" font-size=\"14px\">Rz(0.955π)</text><rect x=\"513.537109375\" y=\"75.0\" width=\"49.61453125\" height=\"40\" stroke=\"black\" fill=\"white\" stroke-width=\"1\" /><text x=\"538.344375\" y=\"95.0\" dominant-baseline=\"middle\" text-anchor=\"middle\" font-size=\"14px\">Rx(v0)</text><rect x=\"583.151640625\" y=\"75.0\" width=\"49.61453125\" height=\"40\" stroke=\"black\" fill=\"white\" stroke-width=\"1\" /><text x=\"607.95890625\" y=\"95.0\" dominant-baseline=\"middle\" text-anchor=\"middle\" font-size=\"14px\">Rz(v1)</text><circle cx=\"672.766171875\" cy=\"95.0\" r=\"10.0\" /><rect x=\"652.766171875\" y=\"125.0\" width=\"40\" height=\"40\" stroke=\"black\" fill=\"white\" stroke-width=\"1\" /><text x=\"672.766171875\" y=\"145.0\" dominant-baseline=\"middle\" text-anchor=\"middle\" font-size=\"18px\">X</text><circle cx=\"722.766171875\" cy=\"45.0\" r=\"10.0\" /><circle cx=\"722.766171875\" cy=\"145.0\" r=\"10.0\" /><rect x=\"742.766171875\" y=\"75.0\" width=\"40\" height=\"40\" stroke=\"black\" fill=\"white\" stroke-width=\"1\" /><text x=\"762.766171875\" y=\"95.0\" dominant-baseline=\"middle\" text-anchor=\"middle\" font-size=\"18px\">M</text><rect x=\"812.766171875\" y=\"25.0\" width=\"40\" height=\"40\" stroke=\"black\" fill=\"white\" stroke-width=\"1\" /><text x=\"832.766171875\" y=\"45.0\" dominant-baseline=\"middle\" text-anchor=\"middle\" font-size=\"18px\">M</text><rect x=\"812.766171875\" y=\"125.0\" width=\"40\" height=\"40\" stroke=\"black\" fill=\"white\" stroke-width=\"1\" /><text x=\"832.766171875\" y=\"145.0\" dominant-baseline=\"middle\" text-anchor=\"middle\" font-size=\"18px\">M</text></svg>"
      ],
      "text/plain": [
       "<cirq.contrib.svg.svg.SVGCircuit at 0x29ec6832cc8>"
      ]
     },
     "execution_count": 161,
     "metadata": {},
     "output_type": "execute_result"
    }
   ],
   "source": [
    "SVGCircuit(c)"
   ]
  }
 ],
 "metadata": {
  "kernelspec": {
   "display_name": "Python 3",
   "language": "python",
   "name": "python3"
  },
  "language_info": {
   "codemirror_mode": {
    "name": "ipython",
    "version": 3
   },
   "file_extension": ".py",
   "mimetype": "text/x-python",
   "name": "python",
   "nbconvert_exporter": "python",
   "pygments_lexer": "ipython3",
   "version": "3.7.10"
  }
 },
 "nbformat": 4,
 "nbformat_minor": 5
}
